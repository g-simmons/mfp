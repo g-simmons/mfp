{
 "cells": [
  {
   "cell_type": "code",
   "execution_count": 1,
   "metadata": {},
   "outputs": [],
   "source": [
    "import pandas as pd\n",
    "# from sklearn.model_selection import train_test_split\n",
    "from sklearn.svm import SVC\n",
    "from sklearn.metrics import accuracy_score, mean_squared_error, mean_absolute_error, r2_score, precision_score, recall_score\n",
    "from xgboost import XGBClassifier, XGBRegressor\n",
    "from sklearn.neighbors import KNeighborsClassifier\n",
    "from sklearn.model_selection import cross_validate\n",
    "import matplotlib.pyplot as plt\n",
    "from sklearn.metrics import make_scorer\n",
    "import numpy as np\n",
    "import pickle as pkl"
   ]
  },
  {
   "cell_type": "code",
   "execution_count": 20,
   "metadata": {
    "collapsed": true
   },
   "outputs": [],
   "source": [
    "data = pd.read_csv('../data/food_vectors_context_only_mixed_1_full.csv',header=None)"
   ]
  },
  {
   "cell_type": "code",
   "execution_count": 21,
   "metadata": {
    "collapsed": true
   },
   "outputs": [],
   "source": [
    "data = data.rename(columns={0:'user',1:'date',102:'goal',103:'actual',104:'label'})"
   ]
  },
  {
   "cell_type": "code",
   "execution_count": 22,
   "metadata": {
    "collapsed": true
   },
   "outputs": [],
   "source": [
    "data = data[data['goal'] > 1200]\n",
    "data = data[data['goal'] < 5000]"
   ]
  },
  {
   "cell_type": "code",
   "execution_count": 23,
   "metadata": {
    "collapsed": true
   },
   "outputs": [],
   "source": [
    "data = data[data['actual'] > 1200]\n",
    "data = data[data['actual'] < 5000]"
   ]
  },
  {
   "cell_type": "code",
   "execution_count": 24,
   "metadata": {
    "collapsed": true
   },
   "outputs": [],
   "source": [
    "data = data[data['label'] != 'on_target']"
   ]
  },
  {
   "cell_type": "code",
   "execution_count": 25,
   "metadata": {
    "collapsed": true
   },
   "outputs": [],
   "source": [
    "groups = data.groupby('user')\n",
    "grouped_y = groups['label'].agg(lambda x:x.value_counts().index[0])\n",
    "grouped_x = groups.mean()\n",
    "grouped = grouped_x.copy()\n",
    "grouped['label'] = grouped_y"
   ]
  },
  {
   "cell_type": "code",
   "execution_count": 26,
   "metadata": {},
   "outputs": [
    {
     "data": {
      "text/html": [
       "<div>\n",
       "<style scoped>\n",
       "    .dataframe tbody tr th:only-of-type {\n",
       "        vertical-align: middle;\n",
       "    }\n",
       "\n",
       "    .dataframe tbody tr th {\n",
       "        vertical-align: top;\n",
       "    }\n",
       "\n",
       "    .dataframe thead th {\n",
       "        text-align: right;\n",
       "    }\n",
       "</style>\n",
       "<table border=\"1\" class=\"dataframe\">\n",
       "  <thead>\n",
       "    <tr style=\"text-align: right;\">\n",
       "      <th></th>\n",
       "      <th>2</th>\n",
       "      <th>3</th>\n",
       "      <th>4</th>\n",
       "      <th>5</th>\n",
       "      <th>6</th>\n",
       "      <th>7</th>\n",
       "      <th>8</th>\n",
       "      <th>9</th>\n",
       "      <th>10</th>\n",
       "      <th>11</th>\n",
       "      <th>...</th>\n",
       "      <th>92</th>\n",
       "      <th>93</th>\n",
       "      <th>94</th>\n",
       "      <th>95</th>\n",
       "      <th>96</th>\n",
       "      <th>97</th>\n",
       "      <th>98</th>\n",
       "      <th>99</th>\n",
       "      <th>100</th>\n",
       "      <th>101</th>\n",
       "    </tr>\n",
       "    <tr>\n",
       "      <th>user</th>\n",
       "      <th></th>\n",
       "      <th></th>\n",
       "      <th></th>\n",
       "      <th></th>\n",
       "      <th></th>\n",
       "      <th></th>\n",
       "      <th></th>\n",
       "      <th></th>\n",
       "      <th></th>\n",
       "      <th></th>\n",
       "      <th></th>\n",
       "      <th></th>\n",
       "      <th></th>\n",
       "      <th></th>\n",
       "      <th></th>\n",
       "      <th></th>\n",
       "      <th></th>\n",
       "      <th></th>\n",
       "      <th></th>\n",
       "      <th></th>\n",
       "      <th></th>\n",
       "    </tr>\n",
       "  </thead>\n",
       "  <tbody>\n",
       "    <tr>\n",
       "      <th>1</th>\n",
       "      <td>0.940640</td>\n",
       "      <td>1.974395</td>\n",
       "      <td>0.516999</td>\n",
       "      <td>7.486841</td>\n",
       "      <td>2.605335</td>\n",
       "      <td>3.387472</td>\n",
       "      <td>3.565053</td>\n",
       "      <td>-0.823774</td>\n",
       "      <td>-1.565085</td>\n",
       "      <td>-10.936691</td>\n",
       "      <td>...</td>\n",
       "      <td>1.752259</td>\n",
       "      <td>-7.354630</td>\n",
       "      <td>-1.592853</td>\n",
       "      <td>1.125635</td>\n",
       "      <td>5.186624</td>\n",
       "      <td>7.063970</td>\n",
       "      <td>4.248565</td>\n",
       "      <td>-3.527355</td>\n",
       "      <td>-6.715618</td>\n",
       "      <td>-0.727340</td>\n",
       "    </tr>\n",
       "    <tr>\n",
       "      <th>2</th>\n",
       "      <td>-3.115656</td>\n",
       "      <td>3.035923</td>\n",
       "      <td>2.400324</td>\n",
       "      <td>7.143588</td>\n",
       "      <td>-0.790513</td>\n",
       "      <td>16.942437</td>\n",
       "      <td>3.580500</td>\n",
       "      <td>4.901053</td>\n",
       "      <td>0.373068</td>\n",
       "      <td>-23.879236</td>\n",
       "      <td>...</td>\n",
       "      <td>6.420133</td>\n",
       "      <td>-1.233227</td>\n",
       "      <td>-5.576033</td>\n",
       "      <td>7.955240</td>\n",
       "      <td>2.753351</td>\n",
       "      <td>12.363296</td>\n",
       "      <td>10.928503</td>\n",
       "      <td>-4.214720</td>\n",
       "      <td>-13.942097</td>\n",
       "      <td>8.026571</td>\n",
       "    </tr>\n",
       "    <tr>\n",
       "      <th>3</th>\n",
       "      <td>1.195099</td>\n",
       "      <td>1.692657</td>\n",
       "      <td>3.224738</td>\n",
       "      <td>4.544582</td>\n",
       "      <td>-4.186786</td>\n",
       "      <td>9.144178</td>\n",
       "      <td>0.262414</td>\n",
       "      <td>3.690105</td>\n",
       "      <td>4.142238</td>\n",
       "      <td>-14.885282</td>\n",
       "      <td>...</td>\n",
       "      <td>-0.455833</td>\n",
       "      <td>-2.529435</td>\n",
       "      <td>-5.226776</td>\n",
       "      <td>7.008238</td>\n",
       "      <td>0.619791</td>\n",
       "      <td>7.976729</td>\n",
       "      <td>6.426600</td>\n",
       "      <td>0.235738</td>\n",
       "      <td>-9.332515</td>\n",
       "      <td>4.200863</td>\n",
       "    </tr>\n",
       "    <tr>\n",
       "      <th>4</th>\n",
       "      <td>-2.437403</td>\n",
       "      <td>8.254900</td>\n",
       "      <td>1.747083</td>\n",
       "      <td>4.392107</td>\n",
       "      <td>2.175820</td>\n",
       "      <td>8.169510</td>\n",
       "      <td>-0.681037</td>\n",
       "      <td>-3.147953</td>\n",
       "      <td>5.117293</td>\n",
       "      <td>-27.392433</td>\n",
       "      <td>...</td>\n",
       "      <td>-4.778841</td>\n",
       "      <td>-10.433803</td>\n",
       "      <td>0.723171</td>\n",
       "      <td>8.277707</td>\n",
       "      <td>4.771753</td>\n",
       "      <td>7.294773</td>\n",
       "      <td>3.695137</td>\n",
       "      <td>-3.313980</td>\n",
       "      <td>-17.453933</td>\n",
       "      <td>7.658113</td>\n",
       "    </tr>\n",
       "    <tr>\n",
       "      <th>5</th>\n",
       "      <td>2.532470</td>\n",
       "      <td>10.246103</td>\n",
       "      <td>14.160194</td>\n",
       "      <td>17.413735</td>\n",
       "      <td>-0.970067</td>\n",
       "      <td>0.482242</td>\n",
       "      <td>12.881612</td>\n",
       "      <td>-2.614593</td>\n",
       "      <td>13.848845</td>\n",
       "      <td>-35.409870</td>\n",
       "      <td>...</td>\n",
       "      <td>14.447327</td>\n",
       "      <td>-4.409335</td>\n",
       "      <td>-16.560263</td>\n",
       "      <td>6.139350</td>\n",
       "      <td>13.263314</td>\n",
       "      <td>16.036523</td>\n",
       "      <td>7.948457</td>\n",
       "      <td>0.872352</td>\n",
       "      <td>-9.128687</td>\n",
       "      <td>1.161485</td>\n",
       "    </tr>\n",
       "  </tbody>\n",
       "</table>\n",
       "<p>5 rows × 100 columns</p>\n",
       "</div>"
      ],
      "text/plain": [
       "           2          3          4          5         6          7    \\\n",
       "user                                                                   \n",
       "1     0.940640   1.974395   0.516999   7.486841  2.605335   3.387472   \n",
       "2    -3.115656   3.035923   2.400324   7.143588 -0.790513  16.942437   \n",
       "3     1.195099   1.692657   3.224738   4.544582 -4.186786   9.144178   \n",
       "4    -2.437403   8.254900   1.747083   4.392107  2.175820   8.169510   \n",
       "5     2.532470  10.246103  14.160194  17.413735 -0.970067   0.482242   \n",
       "\n",
       "            8         9          10         11     ...           92   \\\n",
       "user                                               ...                 \n",
       "1      3.565053 -0.823774  -1.565085 -10.936691    ...      1.752259   \n",
       "2      3.580500  4.901053   0.373068 -23.879236    ...      6.420133   \n",
       "3      0.262414  3.690105   4.142238 -14.885282    ...     -0.455833   \n",
       "4     -0.681037 -3.147953   5.117293 -27.392433    ...     -4.778841   \n",
       "5     12.881612 -2.614593  13.848845 -35.409870    ...     14.447327   \n",
       "\n",
       "            93         94        95         96         97         98   \\\n",
       "user                                                                    \n",
       "1     -7.354630  -1.592853  1.125635   5.186624   7.063970   4.248565   \n",
       "2     -1.233227  -5.576033  7.955240   2.753351  12.363296  10.928503   \n",
       "3     -2.529435  -5.226776  7.008238   0.619791   7.976729   6.426600   \n",
       "4    -10.433803   0.723171  8.277707   4.771753   7.294773   3.695137   \n",
       "5     -4.409335 -16.560263  6.139350  13.263314  16.036523   7.948457   \n",
       "\n",
       "           99         100       101  \n",
       "user                                 \n",
       "1    -3.527355  -6.715618 -0.727340  \n",
       "2    -4.214720 -13.942097  8.026571  \n",
       "3     0.235738  -9.332515  4.200863  \n",
       "4    -3.313980 -17.453933  7.658113  \n",
       "5     0.872352  -9.128687  1.161485  \n",
       "\n",
       "[5 rows x 100 columns]"
      ]
     },
     "execution_count": 26,
     "metadata": {},
     "output_type": "execute_result"
    }
   ],
   "source": [
    "grouped.iloc[:,0:100].head()"
   ]
  },
  {
   "cell_type": "code",
   "execution_count": 27,
   "metadata": {},
   "outputs": [
    {
     "data": {
      "text/plain": [
       "4175"
      ]
     },
     "execution_count": 27,
     "metadata": {},
     "output_type": "execute_result"
    }
   ],
   "source": [
    "sum(grouped['label'] == 'below')"
   ]
  },
  {
   "cell_type": "code",
   "execution_count": 28,
   "metadata": {
    "collapsed": true
   },
   "outputs": [],
   "source": [
    "# y = grouped.loc[:,'label']\n",
    "# X = grouped.iloc[:,1:101]\n",
    "y = grouped.iloc[0:20,102]\n",
    "X = grouped.iloc[0:20,1:101]"
   ]
  },
  {
   "cell_type": "code",
   "execution_count": 29,
   "metadata": {
    "collapsed": true
   },
   "outputs": [],
   "source": [
    "scoring = {'accuracy':'accuracy',\n",
    "           'precision':make_scorer(precision_score,average='macro'),\n",
    "           'recall':make_scorer(recall_score,average='macro')}"
   ]
  },
  {
   "cell_type": "code",
   "execution_count": 30,
   "metadata": {},
   "outputs": [
    {
     "name": "stderr",
     "output_type": "stream",
     "text": [
      "C:\\ProgramData\\Anaconda3\\lib\\site-packages\\sklearn\\metrics\\classification.py:1135: UndefinedMetricWarning: Precision is ill-defined and being set to 0.0 in labels with no predicted samples.\n",
      "  'precision', 'predicted', average, warn_for)\n",
      "C:\\ProgramData\\Anaconda3\\lib\\site-packages\\sklearn\\metrics\\classification.py:1135: UndefinedMetricWarning: Precision is ill-defined and being set to 0.0 in labels with no predicted samples.\n",
      "  'precision', 'predicted', average, warn_for)\n",
      "C:\\ProgramData\\Anaconda3\\lib\\site-packages\\sklearn\\metrics\\classification.py:1135: UndefinedMetricWarning: Precision is ill-defined and being set to 0.0 in labels with no predicted samples.\n",
      "  'precision', 'predicted', average, warn_for)\n",
      "C:\\ProgramData\\Anaconda3\\lib\\site-packages\\sklearn\\metrics\\classification.py:1135: UndefinedMetricWarning: Precision is ill-defined and being set to 0.0 in labels with no predicted samples.\n",
      "  'precision', 'predicted', average, warn_for)\n"
     ]
    }
   ],
   "source": [
    "svc = SVC(kernel='linear')\n",
    "scores = cross_validate(svc,X,y,scoring=scoring,cv=5)"
   ]
  },
  {
   "cell_type": "code",
   "execution_count": 31,
   "metadata": {},
   "outputs": [
    {
     "data": {
      "text/plain": [
       "{'fit_time': array([ 0.00200009,  0.00200009,  0.00099993,  0.00300002,  0.00199986]),\n",
       " 'score_time': array([ 0.00300002,  0.00099993,  0.00300026,  0.00200009,  0.00300026]),\n",
       " 'test_accuracy': array([ 0.75,  0.75,  0.75,  0.75,  0.75]),\n",
       " 'test_precision': array([ 0.375,  0.75 ,  0.375,  0.375,  0.375]),\n",
       " 'test_recall': array([ 0.5       ,  0.83333333,  0.5       ,  0.5       ,  0.5       ]),\n",
       " 'train_accuracy': array([ 1.,  1.,  1.,  1.,  1.]),\n",
       " 'train_precision': array([ 1.,  1.,  1.,  1.,  1.]),\n",
       " 'train_recall': array([ 1.,  1.,  1.,  1.,  1.])}"
      ]
     },
     "execution_count": 31,
     "metadata": {},
     "output_type": "execute_result"
    }
   ],
   "source": [
    "scores"
   ]
  },
  {
   "cell_type": "code",
   "execution_count": 32,
   "metadata": {},
   "outputs": [
    {
     "name": "stdout",
     "output_type": "stream",
     "text": [
      "0.75\n",
      "0.0\n",
      "0.45\n",
      "0.15\n",
      "0.566666666667\n",
      "0.133333333333\n"
     ]
    }
   ],
   "source": [
    "print(np.mean(scores['test_accuracy']))\n",
    "print(np.std(scores['test_accuracy']))\n",
    "print(np.mean(scores['test_precision']))\n",
    "print(np.std(scores['test_precision']))\n",
    "print(np.mean(scores['test_recall']))\n",
    "print(np.std(scores['test_recall']))"
   ]
  },
  {
   "cell_type": "code",
   "execution_count": 60,
   "metadata": {
    "collapsed": true
   },
   "outputs": [],
   "source": [
    "# pkl.dump(scores,open('../predictive_models/svm_5_fold_scores.pkl','wb'))"
   ]
  },
  {
   "cell_type": "code",
   "execution_count": 62,
   "metadata": {
    "collapsed": true
   },
   "outputs": [],
   "source": [
    "# pkl.dump(svc,open('../predictive_models/svm_model.pkl','wb'))"
   ]
  },
  {
   "cell_type": "code",
   "execution_count": 138,
   "metadata": {},
   "outputs": [
    {
     "data": {
      "text/plain": [
       "0.75991692627206653"
      ]
     },
     "execution_count": 138,
     "metadata": {},
     "output_type": "execute_result"
    }
   ],
   "source": [
    "# xgb = XGBClassifier(max_depth=3,colsample_bytree=0.9,gamma=2,subsample=0.6,learning_rate=0.07,n_estimators=300)\n",
    "# scores = cross_validate(xgb,X,y,scoring='accuracy')\n",
    "# np.mean(scores['test_score'])"
   ]
  },
  {
   "cell_type": "code",
   "execution_count": 137,
   "metadata": {},
   "outputs": [
    {
     "data": {
      "text/plain": [
       "0.6875"
      ]
     },
     "execution_count": 137,
     "metadata": {},
     "output_type": "execute_result"
    }
   ],
   "source": [
    "# kn = KNeighborsClassifier()\n",
    "# kn.fit(X_train,y_train)\n",
    "# y_pred = kn.predict(X_test)\n",
    "# accuracy_score(y_test,y_pred)"
   ]
  },
  {
   "cell_type": "code",
   "execution_count": 141,
   "metadata": {},
   "outputs": [
    {
     "data": {
      "text/plain": [
       "0.033759517804021089"
      ]
     },
     "execution_count": 141,
     "metadata": {},
     "output_type": "execute_result"
    }
   ],
   "source": [
    "# xgb = XGBRegressor(max_depth=4,n_estimators=400,colsample_bytree=0.7,learning_rate=0.01)\n",
    "# xgb.fit(X_train,y_train)\n",
    "# y_test_pred = xgb.predict(X_test)\n",
    "# y_train_pred = xgb.predict(X_train)\n",
    "# r2_score(y_test,y_test_pred)"
   ]
  },
  {
   "cell_type": "code",
   "execution_count": 142,
   "metadata": {},
   "outputs": [
    {
     "data": {
      "text/plain": [
       "<matplotlib.collections.PathCollection at 0x380518d0>"
      ]
     },
     "execution_count": 142,
     "metadata": {},
     "output_type": "execute_result"
    },
    {
     "data": {
      "image/png": "[encoded data removed]",
      "text/plain": [
       "<Figure size 432x288 with 2 Axes>"
      ]
     },
     "metadata": {},
     "output_type": "display_data"
    }
   ],
   "source": [
    "%matplotlib inline\n",
    "fig, axs = plt.subplots(nrows=1,ncols=2)\n",
    "axs[0].scatter(x=y_test,y=y_test_pred)\n",
    "axs[1].scatter(x=y_train,y=y_train_pred)"
   ]
  },
  {
   "cell_type": "code",
   "execution_count": 17,
   "metadata": {
    "collapsed": true
   },
   "outputs": [],
   "source": [
    "def f_importances(coef, names):\n",
    "    imp = coef\n",
    "    imp,names = zip(*sorted(zip(imp,names)))\n",
    "    plt.barh(range(len(names)), imp, align='center')\n",
    "    plt.yticks(range(len(names)), names)\n",
    "    plt.show()"
   ]
  },
  {
   "cell_type": "code",
   "execution_count": 34,
   "metadata": {},
   "outputs": [
    {
     "ename": "AttributeError",
     "evalue": "'SVC' object has no attribute 'dual_coef_'",
     "output_type": "error",
     "traceback": [
      "\u001b[1;31m---------------------------------------------------------------------------\u001b[0m",
      "\u001b[1;31mAttributeError\u001b[0m                            Traceback (most recent call last)",
      "\u001b[1;32m<ipython-input-34-5fb1eabed2f7>\u001b[0m in \u001b[0;36m<module>\u001b[1;34m()\u001b[0m\n\u001b[1;32m----> 1\u001b[1;33m \u001b[0mf_importances\u001b[0m\u001b[1;33m(\u001b[0m\u001b[0msvc\u001b[0m\u001b[1;33m.\u001b[0m\u001b[0mcoef_\u001b[0m\u001b[1;33m,\u001b[0m \u001b[0mX\u001b[0m\u001b[1;33m.\u001b[0m\u001b[0mcolumns\u001b[0m\u001b[1;33m[\u001b[0m\u001b[1;36m1\u001b[0m\u001b[1;33m:\u001b[0m\u001b[1;36m101\u001b[0m\u001b[1;33m]\u001b[0m\u001b[1;33m)\u001b[0m\u001b[1;33m\u001b[0m\u001b[1;33m\u001b[0m\u001b[0m\n\u001b[0m",
      "\u001b[1;32mC:\\ProgramData\\Anaconda3\\lib\\site-packages\\sklearn\\svm\\base.py\u001b[0m in \u001b[0;36mcoef_\u001b[1;34m(self)\u001b[0m\n\u001b[0;32m    466\u001b[0m                 \u001b[1;34m\"cannot use sparse input in %r trained on dense data\"\u001b[0m\u001b[1;33m\u001b[0m\u001b[1;33m\u001b[0m\u001b[0m\n\u001b[0;32m    467\u001b[0m                 % type(self).__name__)\n\u001b[1;32m--> 468\u001b[1;33m         \u001b[0mn_samples\u001b[0m\u001b[1;33m,\u001b[0m \u001b[0mn_features\u001b[0m \u001b[1;33m=\u001b[0m \u001b[0mX\u001b[0m\u001b[1;33m.\u001b[0m\u001b[0mshape\u001b[0m\u001b[1;33m\u001b[0m\u001b[1;33m\u001b[0m\u001b[0m\n\u001b[0m\u001b[0;32m    469\u001b[0m \u001b[1;33m\u001b[0m\u001b[0m\n\u001b[0;32m    470\u001b[0m         \u001b[1;32mif\u001b[0m \u001b[0mself\u001b[0m\u001b[1;33m.\u001b[0m\u001b[0mkernel\u001b[0m \u001b[1;33m==\u001b[0m \u001b[1;34m\"precomputed\"\u001b[0m\u001b[1;33m:\u001b[0m\u001b[1;33m\u001b[0m\u001b[1;33m\u001b[0m\u001b[0m\n",
      "\u001b[1;32mC:\\ProgramData\\Anaconda3\\lib\\site-packages\\sklearn\\svm\\base.py\u001b[0m in \u001b[0;36m_get_coef\u001b[1;34m(self)\u001b[0m\n\u001b[0;32m    673\u001b[0m \u001b[1;33m\u001b[0m\u001b[0m\n\u001b[0;32m    674\u001b[0m         \u001b[0mkernel\u001b[0m \u001b[1;33m=\u001b[0m \u001b[0mself\u001b[0m\u001b[1;33m.\u001b[0m\u001b[0mkernel\u001b[0m\u001b[1;33m\u001b[0m\u001b[1;33m\u001b[0m\u001b[0m\n\u001b[1;32m--> 675\u001b[1;33m         \u001b[1;32mif\u001b[0m \u001b[0mcallable\u001b[0m\u001b[1;33m(\u001b[0m\u001b[0mkernel\u001b[0m\u001b[1;33m)\u001b[0m\u001b[1;33m:\u001b[0m\u001b[1;33m\u001b[0m\u001b[1;33m\u001b[0m\u001b[0m\n\u001b[0m\u001b[0;32m    676\u001b[0m             \u001b[0mkernel\u001b[0m \u001b[1;33m=\u001b[0m \u001b[1;34m'precomputed'\u001b[0m\u001b[1;33m\u001b[0m\u001b[1;33m\u001b[0m\u001b[0m\n\u001b[0;32m    677\u001b[0m \u001b[1;33m\u001b[0m\u001b[0m\n",
      "\u001b[1;31mAttributeError\u001b[0m: 'SVC' object has no attribute 'dual_coef_'"
     ]
    }
   ],
   "source": [
    "f_importances(svc.coef_, X.columns[1:101])"
   ]
  },
  {
   "cell_type": "code",
   "execution_count": 35,
   "metadata": {},
   "outputs": [
    {
     "ename": "AttributeError",
     "evalue": "'SVC' object has no attribute 'dual_coef_'",
     "output_type": "error",
     "traceback": [
      "\u001b[1;31m---------------------------------------------------------------------------\u001b[0m",
      "\u001b[1;31mAttributeError\u001b[0m                            Traceback (most recent call last)",
      "\u001b[1;32m<ipython-input-35-610f6ccd1913>\u001b[0m in \u001b[0;36m<module>\u001b[1;34m()\u001b[0m\n\u001b[1;32m----> 1\u001b[1;33m \u001b[0msvc\u001b[0m\u001b[1;33m.\u001b[0m\u001b[0mcoef_\u001b[0m\u001b[1;33m\u001b[0m\u001b[1;33m\u001b[0m\u001b[0m\n\u001b[0m",
      "\u001b[1;32mC:\\ProgramData\\Anaconda3\\lib\\site-packages\\sklearn\\svm\\base.py\u001b[0m in \u001b[0;36mcoef_\u001b[1;34m(self)\u001b[0m\n\u001b[0;32m    466\u001b[0m                 \u001b[1;34m\"cannot use sparse input in %r trained on dense data\"\u001b[0m\u001b[1;33m\u001b[0m\u001b[1;33m\u001b[0m\u001b[0m\n\u001b[0;32m    467\u001b[0m                 % type(self).__name__)\n\u001b[1;32m--> 468\u001b[1;33m         \u001b[0mn_samples\u001b[0m\u001b[1;33m,\u001b[0m \u001b[0mn_features\u001b[0m \u001b[1;33m=\u001b[0m \u001b[0mX\u001b[0m\u001b[1;33m.\u001b[0m\u001b[0mshape\u001b[0m\u001b[1;33m\u001b[0m\u001b[1;33m\u001b[0m\u001b[0m\n\u001b[0m\u001b[0;32m    469\u001b[0m \u001b[1;33m\u001b[0m\u001b[0m\n\u001b[0;32m    470\u001b[0m         \u001b[1;32mif\u001b[0m \u001b[0mself\u001b[0m\u001b[1;33m.\u001b[0m\u001b[0mkernel\u001b[0m \u001b[1;33m==\u001b[0m \u001b[1;34m\"precomputed\"\u001b[0m\u001b[1;33m:\u001b[0m\u001b[1;33m\u001b[0m\u001b[1;33m\u001b[0m\u001b[0m\n",
      "\u001b[1;32mC:\\ProgramData\\Anaconda3\\lib\\site-packages\\sklearn\\svm\\base.py\u001b[0m in \u001b[0;36m_get_coef\u001b[1;34m(self)\u001b[0m\n\u001b[0;32m    673\u001b[0m \u001b[1;33m\u001b[0m\u001b[0m\n\u001b[0;32m    674\u001b[0m         \u001b[0mkernel\u001b[0m \u001b[1;33m=\u001b[0m \u001b[0mself\u001b[0m\u001b[1;33m.\u001b[0m\u001b[0mkernel\u001b[0m\u001b[1;33m\u001b[0m\u001b[1;33m\u001b[0m\u001b[0m\n\u001b[1;32m--> 675\u001b[1;33m         \u001b[1;32mif\u001b[0m \u001b[0mcallable\u001b[0m\u001b[1;33m(\u001b[0m\u001b[0mkernel\u001b[0m\u001b[1;33m)\u001b[0m\u001b[1;33m:\u001b[0m\u001b[1;33m\u001b[0m\u001b[1;33m\u001b[0m\u001b[0m\n\u001b[0m\u001b[0;32m    676\u001b[0m             \u001b[0mkernel\u001b[0m \u001b[1;33m=\u001b[0m \u001b[1;34m'precomputed'\u001b[0m\u001b[1;33m\u001b[0m\u001b[1;33m\u001b[0m\u001b[0m\n\u001b[0;32m    677\u001b[0m \u001b[1;33m\u001b[0m\u001b[0m\n",
      "\u001b[1;31mAttributeError\u001b[0m: 'SVC' object has no attribute 'dual_coef_'"
     ]
    }
   ],
   "source": [
    "svc."
   ]
  },
  {
   "cell_type": "code",
   "execution_count": null,
   "metadata": {
    "collapsed": true
   },
   "outputs": [],
   "source": []
  }
 ],
 "metadata": {
  "kernelspec": {
   "display_name": "Python 3",
   "language": "python",
   "name": "python3"
  },
  "language_info": {
   "codemirror_mode": {
    "name": "ipython",
    "version": 3
   },
   "file_extension": ".py",
   "mimetype": "text/x-python",
   "name": "python",
   "nbconvert_exporter": "python",
   "pygments_lexer": "ipython3",
   "version": "3.6.7"
  }
 },
 "nbformat": 4,
 "nbformat_minor": 2
}
