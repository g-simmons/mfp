{
 "cells": [
  {
   "cell_type": "code",
   "execution_count": 139,
   "metadata": {
    "collapsed": true
   },
   "outputs": [],
   "source": [
    "import pandas as pd\n",
    "from sklearn.svm import SVC, LinearSVC\n",
    "from sklearn.metrics import accuracy_score, precision_score, recall_score\n",
    "from sklearn.model_selection import cross_validate\n",
    "from sklearn.neural_network import MLPClassifier\n",
    "from sklearn.metrics import make_scorer\n",
    "from sklearn.preprocessing import LabelEncoder\n",
    "import numpy as np\n",
    "import pickle as pkl\n",
    "from xgboost import XGBClassifier\n",
    "import json\n",
    "from svmclassifier import SVMClassifier\n",
    "from nnclassifier import NNClassifier\n",
    "import matplotlib.pyplot as plt"
   ]
  },
  {
   "cell_type": "markdown",
   "metadata": {},
   "source": [
    "\n",
    "## Load the one-hot encoded data\n",
    "Use one-hot token method, since this performed better than category using the taxonomy  \n",
    "`onehot_feature.json` is created using `onehot.py`"
   ]
  },
  {
   "cell_type": "code",
   "execution_count": 178,
   "metadata": {
    "collapsed": true
   },
   "outputs": [],
   "source": [
    "with open(\"../data/onehot_feature.json\", 'r') as f:\n",
    "    users = json.load(f)"
   ]
  },
  {
   "cell_type": "markdown",
   "metadata": {},
   "source": [
    "### Remove \"on target\" class"
   ]
  },
  {
   "cell_type": "code",
   "execution_count": 179,
   "metadata": {
    "collapsed": true
   },
   "outputs": [],
   "source": [
    "data = [user for user in users if user[\"label\"] != 2]"
   ]
  },
  {
   "cell_type": "markdown",
   "metadata": {},
   "source": [
    "### Split the data into model input and output"
   ]
  },
  {
   "cell_type": "code",
   "execution_count": 180,
   "metadata": {
    "collapsed": true
   },
   "outputs": [],
   "source": [
    "le = LabelEncoder()\n",
    "\n",
    "X_one_hot = [np.array(user[\"feature\"]) for user in data]\n",
    "\n",
    "labels = [user[\"label\"] for user in data]\n",
    "y_one_hot = le.fit_transform(labels)"
   ]
  },
  {
   "cell_type": "markdown",
   "metadata": {},
   "source": [
    "## SVM with one-hot encoding input"
   ]
  },
  {
   "cell_type": "code",
   "execution_count": 185,
   "metadata": {
    "collapsed": true
   },
   "outputs": [],
   "source": [
    "scoring = {'accuracy':'accuracy',\n",
    "           'precision_macro':make_scorer(precision_score,average='macro'),\n",
    "           'recall_macro':make_scorer(recall_score,average='macro'),\n",
    "           'precision_above':make_scorer(precision_score,average='binary',pos_label=1),\n",
    "           'recall_above':make_scorer(recall_score,average='binary',pos_label=1)}"
   ]
  },
  {
   "cell_type": "code",
   "execution_count": 186,
   "metadata": {},
   "outputs": [],
   "source": [
    "svc = SVC(kernel='linear')\n",
    "svc_scores_one_hot = cross_validate(svc,X_one_hot,y_one_hot,scoring=scoring,cv=5)"
   ]
  },
  {
   "cell_type": "code",
   "execution_count": 183,
   "metadata": {
    "collapsed": true
   },
   "outputs": [],
   "source": [
    "def print_scores(scores):\n",
    "    for metric in ['test_accuracy','test_precision_macro','test_recall_macro','test_precision_above','test_recall_above']:\n",
    "        print('\\n' + metric)\n",
    "        print('Average ' + metric)\n",
    "        print(round(np.mean(scores[metric]),4))\n",
    "        print('Std of ' + metric)\n",
    "        print(round(np.std(scores[metric]),6))"
   ]
  },
  {
   "cell_type": "code",
   "execution_count": 187,
   "metadata": {},
   "outputs": [
    {
     "name": "stdout",
     "output_type": "stream",
     "text": [
      "\n",
      "test_accuracy\n",
      "Average test_accuracy\n",
      "0.6608\n",
      "Std of test_accuracy\n",
      "0.010967\n",
      "\n",
      "test_precision_macro\n",
      "Average test_precision_macro\n",
      "0.5581\n",
      "Std of test_precision_macro\n",
      "0.011989\n",
      "\n",
      "test_recall_macro\n",
      "Average test_recall_macro\n",
      "0.5685\n",
      "Std of test_recall_macro\n",
      "0.014025\n",
      "\n",
      "test_precision_above\n",
      "Average test_precision_above\n",
      "0.3097\n",
      "Std of test_precision_above\n",
      "0.01712\n",
      "\n",
      "test_recall_above\n",
      "Average test_recall_above\n",
      "0.399\n",
      "Std of test_recall_above\n",
      "0.025401\n"
     ]
    }
   ],
   "source": [
    "print_scores(svc_scores_one_hot)"
   ]
  },
  {
   "cell_type": "markdown",
   "metadata": {},
   "source": [
    "## MLP with one-hot encoding input"
   ]
  },
  {
   "cell_type": "code",
   "execution_count": 188,
   "metadata": {
    "collapsed": true
   },
   "outputs": [],
   "source": [
    "mlp_one_hot = MLPClassifier(activation='relu', alpha=1e-05, batch_size='auto', beta_1=0.9,\n",
    "                             beta_2=0.999, early_stopping=False, epsilon=1e-08,\n",
    "                             hidden_layer_sizes=(600), learning_rate='constant',\n",
    "                             learning_rate_init=0.001, max_iter=200, momentum=0.9,\n",
    "                             nesterovs_momentum=True, power_t=0.5, random_state=1, shuffle=True,\n",
    "                             solver='lbfgs', tol=0.0001, validation_fraction=0.1, verbose=False,\n",
    "                             warm_start=False)"
   ]
  },
  {
   "cell_type": "code",
   "execution_count": 189,
   "metadata": {
    "collapsed": true
   },
   "outputs": [],
   "source": [
    "mlp_scores_one_hot = cross_validate(mlp_one_hot,X_one_hot,y_one_hot,scoring=scoring,cv=5)"
   ]
  },
  {
   "cell_type": "code",
   "execution_count": 190,
   "metadata": {},
   "outputs": [
    {
     "name": "stdout",
     "output_type": "stream",
     "text": [
      "\n",
      "test_accuracy\n",
      "Average test_accuracy\n",
      "0.744\n",
      "Std of test_accuracy\n",
      "0.018301\n",
      "\n",
      "test_precision_macro\n",
      "Average test_precision_macro\n",
      "0.6175\n",
      "Std of test_precision_macro\n",
      "0.030765\n",
      "\n",
      "test_recall_macro\n",
      "Average test_recall_macro\n",
      "0.5958\n",
      "Std of test_recall_macro\n",
      "0.022283\n",
      "\n",
      "test_precision_above\n",
      "Average test_precision_above\n",
      "0.4216\n",
      "Std of test_precision_above\n",
      "0.053364\n",
      "\n",
      "test_recall_above\n",
      "Average test_recall_above\n",
      "0.3239\n",
      "Std of test_recall_above\n",
      "0.038977\n"
     ]
    }
   ],
   "source": [
    "print_scores(mlp_scores_one_hot)"
   ]
  },
  {
   "cell_type": "markdown",
   "metadata": {},
   "source": [
    "## Prepare vectorized data for classification"
   ]
  },
  {
   "cell_type": "markdown",
   "metadata": {},
   "source": [
    "### Load the model input\n",
    "This input is constructed using `construct_classifier_input_data.ipynb`"
   ]
  },
  {
   "cell_type": "code",
   "execution_count": 197,
   "metadata": {},
   "outputs": [],
   "source": [
    "data_w2v = pd.read_csv('../data/food_vectors_w2v.csv',header=None)\n",
    "data_fasttext = pd.read_csv('../data/food_vectors_fasttext.csv',header=None)\n",
    "data_w2v = data_w2v.rename(columns={0:'user',1:'date',102:'goal',103:'actual',104:'label'})\n",
    "\n",
    "\n",
    "data_fasttext = data_fasttext.rename(columns={0:'user',1:'date',102:'goal',103:'actual',104:'label'})\n",
    "data_fasttext = data_fasttext.rename(columns=lambda x: str(int(x) - 1) if x in data_fasttext.columns[2:102] else x)"
   ]
  },
  {
   "cell_type": "code",
   "execution_count": 198,
   "metadata": {},
   "outputs": [
    {
     "data": {
      "text/html": [
       "<div>\n",
       "<style scoped>\n",
       "    .dataframe tbody tr th:only-of-type {\n",
       "        vertical-align: middle;\n",
       "    }\n",
       "\n",
       "    .dataframe tbody tr th {\n",
       "        vertical-align: top;\n",
       "    }\n",
       "\n",
       "    .dataframe thead th {\n",
       "        text-align: right;\n",
       "    }\n",
       "</style>\n",
       "<table border=\"1\" class=\"dataframe\">\n",
       "  <thead>\n",
       "    <tr style=\"text-align: right;\">\n",
       "      <th></th>\n",
       "      <th>user</th>\n",
       "      <th>date</th>\n",
       "      <th>1</th>\n",
       "      <th>2</th>\n",
       "      <th>3</th>\n",
       "      <th>4</th>\n",
       "      <th>5</th>\n",
       "      <th>6</th>\n",
       "      <th>7</th>\n",
       "      <th>8</th>\n",
       "      <th>...</th>\n",
       "      <th>94</th>\n",
       "      <th>95</th>\n",
       "      <th>96</th>\n",
       "      <th>97</th>\n",
       "      <th>98</th>\n",
       "      <th>99</th>\n",
       "      <th>100</th>\n",
       "      <th>goal</th>\n",
       "      <th>actual</th>\n",
       "      <th>label</th>\n",
       "    </tr>\n",
       "  </thead>\n",
       "  <tbody>\n",
       "    <tr>\n",
       "      <th>0</th>\n",
       "      <td>1</td>\n",
       "      <td>2014-09-14</td>\n",
       "      <td>-5.958106</td>\n",
       "      <td>-11.863085</td>\n",
       "      <td>14.124744</td>\n",
       "      <td>17.715162</td>\n",
       "      <td>7.297624</td>\n",
       "      <td>-16.876074</td>\n",
       "      <td>6.421110</td>\n",
       "      <td>-10.583551</td>\n",
       "      <td>...</td>\n",
       "      <td>1.713615</td>\n",
       "      <td>11.185937</td>\n",
       "      <td>5.823830</td>\n",
       "      <td>-15.392231</td>\n",
       "      <td>-9.979661</td>\n",
       "      <td>-11.421283</td>\n",
       "      <td>-2.338475</td>\n",
       "      <td>3173</td>\n",
       "      <td>2924</td>\n",
       "      <td>on_target</td>\n",
       "    </tr>\n",
       "    <tr>\n",
       "      <th>1</th>\n",
       "      <td>1</td>\n",
       "      <td>2014-09-15</td>\n",
       "      <td>-0.037711</td>\n",
       "      <td>0.105858</td>\n",
       "      <td>3.478882</td>\n",
       "      <td>0.565845</td>\n",
       "      <td>-2.449674</td>\n",
       "      <td>-0.779285</td>\n",
       "      <td>0.082059</td>\n",
       "      <td>-4.559442</td>\n",
       "      <td>...</td>\n",
       "      <td>-5.333766</td>\n",
       "      <td>3.976366</td>\n",
       "      <td>-1.588454</td>\n",
       "      <td>-2.370199</td>\n",
       "      <td>-0.725016</td>\n",
       "      <td>-0.723749</td>\n",
       "      <td>-1.332324</td>\n",
       "      <td>1572</td>\n",
       "      <td>2430</td>\n",
       "      <td>above</td>\n",
       "    </tr>\n",
       "    <tr>\n",
       "      <th>2</th>\n",
       "      <td>1</td>\n",
       "      <td>2014-09-16</td>\n",
       "      <td>0.279810</td>\n",
       "      <td>-3.100166</td>\n",
       "      <td>1.889815</td>\n",
       "      <td>4.690158</td>\n",
       "      <td>1.892064</td>\n",
       "      <td>-3.094592</td>\n",
       "      <td>3.842139</td>\n",
       "      <td>-1.731543</td>\n",
       "      <td>...</td>\n",
       "      <td>-3.889596</td>\n",
       "      <td>3.090257</td>\n",
       "      <td>1.940065</td>\n",
       "      <td>2.139145</td>\n",
       "      <td>2.167100</td>\n",
       "      <td>-0.516185</td>\n",
       "      <td>-4.824111</td>\n",
       "      <td>1832</td>\n",
       "      <td>1862</td>\n",
       "      <td>above</td>\n",
       "    </tr>\n",
       "    <tr>\n",
       "      <th>3</th>\n",
       "      <td>1</td>\n",
       "      <td>2014-09-17</td>\n",
       "      <td>2.376114</td>\n",
       "      <td>-6.151992</td>\n",
       "      <td>0.099034</td>\n",
       "      <td>4.389563</td>\n",
       "      <td>2.870405</td>\n",
       "      <td>-2.525932</td>\n",
       "      <td>5.718841</td>\n",
       "      <td>-1.314787</td>\n",
       "      <td>...</td>\n",
       "      <td>-5.449570</td>\n",
       "      <td>4.555738</td>\n",
       "      <td>3.303708</td>\n",
       "      <td>-1.385859</td>\n",
       "      <td>0.581540</td>\n",
       "      <td>0.252295</td>\n",
       "      <td>-4.752221</td>\n",
       "      <td>1685</td>\n",
       "      <td>2251</td>\n",
       "      <td>above</td>\n",
       "    </tr>\n",
       "    <tr>\n",
       "      <th>4</th>\n",
       "      <td>1</td>\n",
       "      <td>2014-09-18</td>\n",
       "      <td>2.278960</td>\n",
       "      <td>-7.586246</td>\n",
       "      <td>4.981245</td>\n",
       "      <td>7.169042</td>\n",
       "      <td>5.490237</td>\n",
       "      <td>-7.623795</td>\n",
       "      <td>1.791896</td>\n",
       "      <td>-4.606276</td>\n",
       "      <td>...</td>\n",
       "      <td>-1.456970</td>\n",
       "      <td>6.809816</td>\n",
       "      <td>0.922566</td>\n",
       "      <td>1.038426</td>\n",
       "      <td>-0.769862</td>\n",
       "      <td>-4.561421</td>\n",
       "      <td>-2.896708</td>\n",
       "      <td>1597</td>\n",
       "      <td>2001</td>\n",
       "      <td>above</td>\n",
       "    </tr>\n",
       "  </tbody>\n",
       "</table>\n",
       "<p>5 rows × 105 columns</p>\n",
       "</div>"
      ],
      "text/plain": [
       "   user        date         1          2          3          4         5  \\\n",
       "0     1  2014-09-14 -5.958106 -11.863085  14.124744  17.715162  7.297624   \n",
       "1     1  2014-09-15 -0.037711   0.105858   3.478882   0.565845 -2.449674   \n",
       "2     1  2014-09-16  0.279810  -3.100166   1.889815   4.690158  1.892064   \n",
       "3     1  2014-09-17  2.376114  -6.151992   0.099034   4.389563  2.870405   \n",
       "4     1  2014-09-18  2.278960  -7.586246   4.981245   7.169042  5.490237   \n",
       "\n",
       "           6         7          8    ...            94         95        96  \\\n",
       "0 -16.876074  6.421110 -10.583551    ...      1.713615  11.185937  5.823830   \n",
       "1  -0.779285  0.082059  -4.559442    ...     -5.333766   3.976366 -1.588454   \n",
       "2  -3.094592  3.842139  -1.731543    ...     -3.889596   3.090257  1.940065   \n",
       "3  -2.525932  5.718841  -1.314787    ...     -5.449570   4.555738  3.303708   \n",
       "4  -7.623795  1.791896  -4.606276    ...     -1.456970   6.809816  0.922566   \n",
       "\n",
       "          97        98         99       100  goal  actual      label  \n",
       "0 -15.392231 -9.979661 -11.421283 -2.338475  3173    2924  on_target  \n",
       "1  -2.370199 -0.725016  -0.723749 -1.332324  1572    2430      above  \n",
       "2   2.139145  2.167100  -0.516185 -4.824111  1832    1862      above  \n",
       "3  -1.385859  0.581540   0.252295 -4.752221  1685    2251      above  \n",
       "4   1.038426 -0.769862  -4.561421 -2.896708  1597    2001      above  \n",
       "\n",
       "[5 rows x 105 columns]"
      ]
     },
     "execution_count": 198,
     "metadata": {},
     "output_type": "execute_result"
    }
   ],
   "source": [
    "data_fasttext.head()"
   ]
  },
  {
   "cell_type": "code",
   "execution_count": 199,
   "metadata": {
    "collapsed": true
   },
   "outputs": [],
   "source": [
    "data = data_fasttext"
   ]
  },
  {
   "cell_type": "markdown",
   "metadata": {},
   "source": [
    "### Preprocessing and aggregation by user"
   ]
  },
  {
   "cell_type": "markdown",
   "metadata": {},
   "source": [
    "Following the original paper, we discard days where less than 100 calories were logged"
   ]
  },
  {
   "cell_type": "code",
   "execution_count": 200,
   "metadata": {
    "collapsed": true
   },
   "outputs": [],
   "source": [
    "data = data[data['actual'] > 100]"
   ]
  },
  {
   "cell_type": "markdown",
   "metadata": {},
   "source": [
    "### Remove \"on target\" class\n",
    "Following the original paper, we discard the 'on_target' label, simplifying the problem to binary classification"
   ]
  },
  {
   "cell_type": "code",
   "execution_count": 201,
   "metadata": {
    "collapsed": true
   },
   "outputs": [],
   "source": [
    "data = data[data['label'] != 'on_target']"
   ]
  },
  {
   "cell_type": "code",
   "execution_count": 202,
   "metadata": {},
   "outputs": [],
   "source": [
    "# data.head()"
   ]
  },
  {
   "cell_type": "markdown",
   "metadata": {},
   "source": [
    "### Aggregate the data by user\n",
    "We group the data by user, aggregate the vectors using the mean, and aggregate the users by taking the modal class.  \n",
    "I.e. if most days that are recorded for a given user have been labeled \"below\", we label this user as \"below\""
   ]
  },
  {
   "cell_type": "code",
   "execution_count": 203,
   "metadata": {
    "collapsed": true
   },
   "outputs": [],
   "source": [
    "groups = data.groupby('user')"
   ]
  },
  {
   "cell_type": "markdown",
   "metadata": {},
   "source": [
    "Display the number of users with more than 30 days logged"
   ]
  },
  {
   "cell_type": "code",
   "execution_count": 204,
   "metadata": {},
   "outputs": [
    {
     "data": {
      "text/plain": [
       "4781"
      ]
     },
     "execution_count": 204,
     "metadata": {},
     "output_type": "execute_result"
    }
   ],
   "source": [
    "len(groups['user'].count()[lambda x: x >= 30].index)"
   ]
  },
  {
   "cell_type": "markdown",
   "metadata": {},
   "source": [
    "Construct a new dataframe of the aggregate data"
   ]
  },
  {
   "cell_type": "code",
   "execution_count": 205,
   "metadata": {
    "collapsed": true
   },
   "outputs": [],
   "source": [
    "grouped_y = groups['label'].agg(lambda x:x.value_counts().index[0])\n",
    "grouped_x = groups.mean()\n",
    "grouped = grouped_x.copy()\n",
    "grouped['label'] = grouped_y\n",
    "grouped_above_30 = grouped.loc[groups['user'].count()[lambda x: x >= 30].index,:]"
   ]
  },
  {
   "cell_type": "markdown",
   "metadata": {},
   "source": [
    "### Check the number of users in each class"
   ]
  },
  {
   "cell_type": "code",
   "execution_count": 206,
   "metadata": {},
   "outputs": [
    {
     "name": "stdout",
     "output_type": "stream",
     "text": [
      "Above: 1330\n",
      "Below: 3451\n"
     ]
    }
   ],
   "source": [
    "above_num = sum(grouped_above_30['label'] == 'above')\n",
    "below_num = sum(grouped_above_30['label'] == 'below')\n",
    "\n",
    "print(\"Above: \" + str(above_num))\n",
    "print(\"Below: \" + str(below_num))"
   ]
  },
  {
   "cell_type": "markdown",
   "metadata": {},
   "source": [
    "### Balance the classes\n",
    "We should try classification with the classes balanced, as the original paper did"
   ]
  },
  {
   "cell_type": "code",
   "execution_count": 207,
   "metadata": {
    "collapsed": true
   },
   "outputs": [],
   "source": [
    "grouped_above_30_balanced = grouped_above_30.copy()\n",
    "below_indices = grouped_above_30_balanced[grouped_above_30_balanced['label'] == 'below'].index\n",
    "n_remove = below_num - above_num\n",
    "drop_indices = np.random.choice(below_indices, n_remove, replace=False)\n",
    "grouped_above_30_balanced = grouped_above_30_balanced.drop(drop_indices)"
   ]
  },
  {
   "cell_type": "code",
   "execution_count": 208,
   "metadata": {},
   "outputs": [
    {
     "name": "stdout",
     "output_type": "stream",
     "text": [
      "Above: 1330\n",
      "Below: 1330\n"
     ]
    }
   ],
   "source": [
    "above_num_balanced = sum(grouped_above_30_balanced['label'] == 'above')\n",
    "below_num_balanced = sum(grouped_above_30_balanced['label'] == 'below')\n",
    "\n",
    "print(\"Above: \" + str(above_num_balanced))\n",
    "print(\"Below: \" + str(below_num_balanced))"
   ]
  },
  {
   "cell_type": "markdown",
   "metadata": {},
   "source": [
    "### Split the data into model input and output"
   ]
  },
  {
   "cell_type": "code",
   "execution_count": 214,
   "metadata": {},
   "outputs": [],
   "source": [
    "# grouped.head()"
   ]
  },
  {
   "cell_type": "code",
   "execution_count": 210,
   "metadata": {
    "collapsed": true
   },
   "outputs": [],
   "source": [
    "y_bal = grouped_above_30_balanced.loc[:,'label']\n",
    "X_bal = grouped_above_30_balanced.iloc[:,0:100]\n",
    "y_unbal = grouped_above_30.loc[:,'label']\n",
    "X_unbal = grouped_above_30.iloc[:,0:100]"
   ]
  },
  {
   "cell_type": "code",
   "execution_count": 215,
   "metadata": {},
   "outputs": [],
   "source": [
    "# X_bal.head()"
   ]
  },
  {
   "cell_type": "code",
   "execution_count": 216,
   "metadata": {},
   "outputs": [],
   "source": [
    "# y.head()"
   ]
  },
  {
   "cell_type": "markdown",
   "metadata": {},
   "source": [
    "## SVM using vector input"
   ]
  },
  {
   "cell_type": "code",
   "execution_count": 217,
   "metadata": {
    "collapsed": true
   },
   "outputs": [],
   "source": [
    "scoring = {'accuracy':'accuracy',\n",
    "           'precision_macro':make_scorer(precision_score,average='macro'),\n",
    "           'recall_macro':make_scorer(recall_score,average='macro'),\n",
    "           'precision_above':make_scorer(precision_score,average='binary',pos_label='above'),\n",
    "           'recall_above':make_scorer(recall_score,average='binary',pos_label='above')}"
   ]
  },
  {
   "cell_type": "code",
   "execution_count": 218,
   "metadata": {},
   "outputs": [
    {
     "ename": "KeyboardInterrupt",
     "evalue": "",
     "output_type": "error",
     "traceback": [
      "\u001b[1;31m---------------------------------------------------------------------------\u001b[0m",
      "\u001b[1;31mKeyboardInterrupt\u001b[0m                         Traceback (most recent call last)",
      "\u001b[1;32m<ipython-input-218-d730626b9d94>\u001b[0m in \u001b[0;36m<module>\u001b[1;34m()\u001b[0m\n\u001b[0;32m      1\u001b[0m \u001b[0msvc\u001b[0m \u001b[1;33m=\u001b[0m \u001b[0mSVC\u001b[0m\u001b[1;33m(\u001b[0m\u001b[0mkernel\u001b[0m\u001b[1;33m=\u001b[0m\u001b[1;34m'linear'\u001b[0m\u001b[1;33m)\u001b[0m\u001b[1;33m\u001b[0m\u001b[1;33m\u001b[0m\u001b[0m\n\u001b[1;32m----> 2\u001b[1;33m \u001b[0msvc_scores_vector_bal\u001b[0m \u001b[1;33m=\u001b[0m \u001b[0mcross_validate\u001b[0m\u001b[1;33m(\u001b[0m\u001b[0msvc\u001b[0m\u001b[1;33m,\u001b[0m\u001b[0mX_bal\u001b[0m\u001b[1;33m,\u001b[0m\u001b[0my_bal\u001b[0m\u001b[1;33m,\u001b[0m\u001b[0mscoring\u001b[0m\u001b[1;33m=\u001b[0m\u001b[0mscoring\u001b[0m\u001b[1;33m,\u001b[0m\u001b[0mcv\u001b[0m\u001b[1;33m=\u001b[0m\u001b[1;36m5\u001b[0m\u001b[1;33m)\u001b[0m\u001b[1;33m\u001b[0m\u001b[1;33m\u001b[0m\u001b[0m\n\u001b[0m",
      "\u001b[1;32mC:\\ProgramData\\Anaconda3\\lib\\site-packages\\sklearn\\model_selection\\_validation.py\u001b[0m in \u001b[0;36mcross_validate\u001b[1;34m(estimator, X, y, groups, scoring, cv, n_jobs, verbose, fit_params, pre_dispatch, return_train_score, return_estimator, error_score)\u001b[0m\n\u001b[0;32m    238\u001b[0m             \u001b[0mreturn_times\u001b[0m\u001b[1;33m=\u001b[0m\u001b[1;32mTrue\u001b[0m\u001b[1;33m,\u001b[0m \u001b[0mreturn_estimator\u001b[0m\u001b[1;33m=\u001b[0m\u001b[0mreturn_estimator\u001b[0m\u001b[1;33m,\u001b[0m\u001b[1;33m\u001b[0m\u001b[1;33m\u001b[0m\u001b[0m\n\u001b[0;32m    239\u001b[0m             error_score=error_score)\n\u001b[1;32m--> 240\u001b[1;33m         for train, test in cv.split(X, y, groups))\n\u001b[0m\u001b[0;32m    241\u001b[0m \u001b[1;33m\u001b[0m\u001b[0m\n\u001b[0;32m    242\u001b[0m     \u001b[0mzipped_scores\u001b[0m \u001b[1;33m=\u001b[0m \u001b[0mlist\u001b[0m\u001b[1;33m(\u001b[0m\u001b[0mzip\u001b[0m\u001b[1;33m(\u001b[0m\u001b[1;33m*\u001b[0m\u001b[0mscores\u001b[0m\u001b[1;33m)\u001b[0m\u001b[1;33m)\u001b[0m\u001b[1;33m\u001b[0m\u001b[1;33m\u001b[0m\u001b[0m\n",
      "\u001b[1;32mC:\\ProgramData\\Anaconda3\\lib\\site-packages\\sklearn\\externals\\joblib\\parallel.py\u001b[0m in \u001b[0;36m__call__\u001b[1;34m(self, iterable)\u001b[0m\n\u001b[0;32m    915\u001b[0m             \u001b[1;31m# remaining jobs.\u001b[0m\u001b[1;33m\u001b[0m\u001b[1;33m\u001b[0m\u001b[1;33m\u001b[0m\u001b[0m\n\u001b[0;32m    916\u001b[0m             \u001b[0mself\u001b[0m\u001b[1;33m.\u001b[0m\u001b[0m_iterating\u001b[0m \u001b[1;33m=\u001b[0m \u001b[1;32mFalse\u001b[0m\u001b[1;33m\u001b[0m\u001b[1;33m\u001b[0m\u001b[0m\n\u001b[1;32m--> 917\u001b[1;33m             \u001b[1;32mif\u001b[0m \u001b[0mself\u001b[0m\u001b[1;33m.\u001b[0m\u001b[0mdispatch_one_batch\u001b[0m\u001b[1;33m(\u001b[0m\u001b[0miterator\u001b[0m\u001b[1;33m)\u001b[0m\u001b[1;33m:\u001b[0m\u001b[1;33m\u001b[0m\u001b[1;33m\u001b[0m\u001b[0m\n\u001b[0m\u001b[0;32m    918\u001b[0m                 \u001b[0mself\u001b[0m\u001b[1;33m.\u001b[0m\u001b[0m_iterating\u001b[0m \u001b[1;33m=\u001b[0m \u001b[0mself\u001b[0m\u001b[1;33m.\u001b[0m\u001b[0m_original_iterator\u001b[0m \u001b[1;32mis\u001b[0m \u001b[1;32mnot\u001b[0m \u001b[1;32mNone\u001b[0m\u001b[1;33m\u001b[0m\u001b[1;33m\u001b[0m\u001b[0m\n\u001b[0;32m    919\u001b[0m \u001b[1;33m\u001b[0m\u001b[0m\n",
      "\u001b[1;32mC:\\ProgramData\\Anaconda3\\lib\\site-packages\\sklearn\\externals\\joblib\\parallel.py\u001b[0m in \u001b[0;36mdispatch_one_batch\u001b[1;34m(self, iterator)\u001b[0m\n\u001b[0;32m    757\u001b[0m                 \u001b[1;32mreturn\u001b[0m \u001b[1;32mFalse\u001b[0m\u001b[1;33m\u001b[0m\u001b[1;33m\u001b[0m\u001b[0m\n\u001b[0;32m    758\u001b[0m             \u001b[1;32melse\u001b[0m\u001b[1;33m:\u001b[0m\u001b[1;33m\u001b[0m\u001b[1;33m\u001b[0m\u001b[0m\n\u001b[1;32m--> 759\u001b[1;33m                 \u001b[0mself\u001b[0m\u001b[1;33m.\u001b[0m\u001b[0m_dispatch\u001b[0m\u001b[1;33m(\u001b[0m\u001b[0mtasks\u001b[0m\u001b[1;33m)\u001b[0m\u001b[1;33m\u001b[0m\u001b[1;33m\u001b[0m\u001b[0m\n\u001b[0m\u001b[0;32m    760\u001b[0m                 \u001b[1;32mreturn\u001b[0m \u001b[1;32mTrue\u001b[0m\u001b[1;33m\u001b[0m\u001b[1;33m\u001b[0m\u001b[0m\n\u001b[0;32m    761\u001b[0m \u001b[1;33m\u001b[0m\u001b[0m\n",
      "\u001b[1;32mC:\\ProgramData\\Anaconda3\\lib\\site-packages\\sklearn\\externals\\joblib\\parallel.py\u001b[0m in \u001b[0;36m_dispatch\u001b[1;34m(self, batch)\u001b[0m\n\u001b[0;32m    714\u001b[0m         \u001b[1;32mwith\u001b[0m \u001b[0mself\u001b[0m\u001b[1;33m.\u001b[0m\u001b[0m_lock\u001b[0m\u001b[1;33m:\u001b[0m\u001b[1;33m\u001b[0m\u001b[1;33m\u001b[0m\u001b[0m\n\u001b[0;32m    715\u001b[0m             \u001b[0mjob_idx\u001b[0m \u001b[1;33m=\u001b[0m \u001b[0mlen\u001b[0m\u001b[1;33m(\u001b[0m\u001b[0mself\u001b[0m\u001b[1;33m.\u001b[0m\u001b[0m_jobs\u001b[0m\u001b[1;33m)\u001b[0m\u001b[1;33m\u001b[0m\u001b[1;33m\u001b[0m\u001b[0m\n\u001b[1;32m--> 716\u001b[1;33m             \u001b[0mjob\u001b[0m \u001b[1;33m=\u001b[0m \u001b[0mself\u001b[0m\u001b[1;33m.\u001b[0m\u001b[0m_backend\u001b[0m\u001b[1;33m.\u001b[0m\u001b[0mapply_async\u001b[0m\u001b[1;33m(\u001b[0m\u001b[0mbatch\u001b[0m\u001b[1;33m,\u001b[0m \u001b[0mcallback\u001b[0m\u001b[1;33m=\u001b[0m\u001b[0mcb\u001b[0m\u001b[1;33m)\u001b[0m\u001b[1;33m\u001b[0m\u001b[1;33m\u001b[0m\u001b[0m\n\u001b[0m\u001b[0;32m    717\u001b[0m             \u001b[1;31m# A job can complete so quickly than its callback is\u001b[0m\u001b[1;33m\u001b[0m\u001b[1;33m\u001b[0m\u001b[1;33m\u001b[0m\u001b[0m\n\u001b[0;32m    718\u001b[0m             \u001b[1;31m# called before we get here, causing self._jobs to\u001b[0m\u001b[1;33m\u001b[0m\u001b[1;33m\u001b[0m\u001b[1;33m\u001b[0m\u001b[0m\n",
      "\u001b[1;32mC:\\ProgramData\\Anaconda3\\lib\\site-packages\\sklearn\\externals\\joblib\\_parallel_backends.py\u001b[0m in \u001b[0;36mapply_async\u001b[1;34m(self, func, callback)\u001b[0m\n\u001b[0;32m    180\u001b[0m     \u001b[1;32mdef\u001b[0m \u001b[0mapply_async\u001b[0m\u001b[1;33m(\u001b[0m\u001b[0mself\u001b[0m\u001b[1;33m,\u001b[0m \u001b[0mfunc\u001b[0m\u001b[1;33m,\u001b[0m \u001b[0mcallback\u001b[0m\u001b[1;33m=\u001b[0m\u001b[1;32mNone\u001b[0m\u001b[1;33m)\u001b[0m\u001b[1;33m:\u001b[0m\u001b[1;33m\u001b[0m\u001b[1;33m\u001b[0m\u001b[0m\n\u001b[0;32m    181\u001b[0m         \u001b[1;34m\"\"\"Schedule a func to be run\"\"\"\u001b[0m\u001b[1;33m\u001b[0m\u001b[1;33m\u001b[0m\u001b[0m\n\u001b[1;32m--> 182\u001b[1;33m         \u001b[0mresult\u001b[0m \u001b[1;33m=\u001b[0m \u001b[0mImmediateResult\u001b[0m\u001b[1;33m(\u001b[0m\u001b[0mfunc\u001b[0m\u001b[1;33m)\u001b[0m\u001b[1;33m\u001b[0m\u001b[1;33m\u001b[0m\u001b[0m\n\u001b[0m\u001b[0;32m    183\u001b[0m         \u001b[1;32mif\u001b[0m \u001b[0mcallback\u001b[0m\u001b[1;33m:\u001b[0m\u001b[1;33m\u001b[0m\u001b[1;33m\u001b[0m\u001b[0m\n\u001b[0;32m    184\u001b[0m             \u001b[0mcallback\u001b[0m\u001b[1;33m(\u001b[0m\u001b[0mresult\u001b[0m\u001b[1;33m)\u001b[0m\u001b[1;33m\u001b[0m\u001b[1;33m\u001b[0m\u001b[0m\n",
      "\u001b[1;32mC:\\ProgramData\\Anaconda3\\lib\\site-packages\\sklearn\\externals\\joblib\\_parallel_backends.py\u001b[0m in \u001b[0;36m__init__\u001b[1;34m(self, batch)\u001b[0m\n\u001b[0;32m    547\u001b[0m         \u001b[1;31m# Don't delay the application, to avoid keeping the input\u001b[0m\u001b[1;33m\u001b[0m\u001b[1;33m\u001b[0m\u001b[1;33m\u001b[0m\u001b[0m\n\u001b[0;32m    548\u001b[0m         \u001b[1;31m# arguments in memory\u001b[0m\u001b[1;33m\u001b[0m\u001b[1;33m\u001b[0m\u001b[1;33m\u001b[0m\u001b[0m\n\u001b[1;32m--> 549\u001b[1;33m         \u001b[0mself\u001b[0m\u001b[1;33m.\u001b[0m\u001b[0mresults\u001b[0m \u001b[1;33m=\u001b[0m \u001b[0mbatch\u001b[0m\u001b[1;33m(\u001b[0m\u001b[1;33m)\u001b[0m\u001b[1;33m\u001b[0m\u001b[1;33m\u001b[0m\u001b[0m\n\u001b[0m\u001b[0;32m    550\u001b[0m \u001b[1;33m\u001b[0m\u001b[0m\n\u001b[0;32m    551\u001b[0m     \u001b[1;32mdef\u001b[0m \u001b[0mget\u001b[0m\u001b[1;33m(\u001b[0m\u001b[0mself\u001b[0m\u001b[1;33m)\u001b[0m\u001b[1;33m:\u001b[0m\u001b[1;33m\u001b[0m\u001b[1;33m\u001b[0m\u001b[0m\n",
      "\u001b[1;32mC:\\ProgramData\\Anaconda3\\lib\\site-packages\\sklearn\\externals\\joblib\\parallel.py\u001b[0m in \u001b[0;36m__call__\u001b[1;34m(self)\u001b[0m\n\u001b[0;32m    223\u001b[0m         \u001b[1;32mwith\u001b[0m \u001b[0mparallel_backend\u001b[0m\u001b[1;33m(\u001b[0m\u001b[0mself\u001b[0m\u001b[1;33m.\u001b[0m\u001b[0m_backend\u001b[0m\u001b[1;33m,\u001b[0m \u001b[0mn_jobs\u001b[0m\u001b[1;33m=\u001b[0m\u001b[0mself\u001b[0m\u001b[1;33m.\u001b[0m\u001b[0m_n_jobs\u001b[0m\u001b[1;33m)\u001b[0m\u001b[1;33m:\u001b[0m\u001b[1;33m\u001b[0m\u001b[1;33m\u001b[0m\u001b[0m\n\u001b[0;32m    224\u001b[0m             return [func(*args, **kwargs)\n\u001b[1;32m--> 225\u001b[1;33m                     for func, args, kwargs in self.items]\n\u001b[0m\u001b[0;32m    226\u001b[0m \u001b[1;33m\u001b[0m\u001b[0m\n\u001b[0;32m    227\u001b[0m     \u001b[1;32mdef\u001b[0m \u001b[0m__len__\u001b[0m\u001b[1;33m(\u001b[0m\u001b[0mself\u001b[0m\u001b[1;33m)\u001b[0m\u001b[1;33m:\u001b[0m\u001b[1;33m\u001b[0m\u001b[1;33m\u001b[0m\u001b[0m\n",
      "\u001b[1;32mC:\\ProgramData\\Anaconda3\\lib\\site-packages\\sklearn\\externals\\joblib\\parallel.py\u001b[0m in \u001b[0;36m<listcomp>\u001b[1;34m(.0)\u001b[0m\n\u001b[0;32m    223\u001b[0m         \u001b[1;32mwith\u001b[0m \u001b[0mparallel_backend\u001b[0m\u001b[1;33m(\u001b[0m\u001b[0mself\u001b[0m\u001b[1;33m.\u001b[0m\u001b[0m_backend\u001b[0m\u001b[1;33m,\u001b[0m \u001b[0mn_jobs\u001b[0m\u001b[1;33m=\u001b[0m\u001b[0mself\u001b[0m\u001b[1;33m.\u001b[0m\u001b[0m_n_jobs\u001b[0m\u001b[1;33m)\u001b[0m\u001b[1;33m:\u001b[0m\u001b[1;33m\u001b[0m\u001b[1;33m\u001b[0m\u001b[0m\n\u001b[0;32m    224\u001b[0m             return [func(*args, **kwargs)\n\u001b[1;32m--> 225\u001b[1;33m                     for func, args, kwargs in self.items]\n\u001b[0m\u001b[0;32m    226\u001b[0m \u001b[1;33m\u001b[0m\u001b[0m\n\u001b[0;32m    227\u001b[0m     \u001b[1;32mdef\u001b[0m \u001b[0m__len__\u001b[0m\u001b[1;33m(\u001b[0m\u001b[0mself\u001b[0m\u001b[1;33m)\u001b[0m\u001b[1;33m:\u001b[0m\u001b[1;33m\u001b[0m\u001b[1;33m\u001b[0m\u001b[0m\n",
      "\u001b[1;32mC:\\ProgramData\\Anaconda3\\lib\\site-packages\\sklearn\\model_selection\\_validation.py\u001b[0m in \u001b[0;36m_fit_and_score\u001b[1;34m(estimator, X, y, scorer, train, test, verbose, parameters, fit_params, return_train_score, return_parameters, return_n_test_samples, return_times, return_estimator, error_score)\u001b[0m\n\u001b[0;32m    526\u001b[0m             \u001b[0mestimator\u001b[0m\u001b[1;33m.\u001b[0m\u001b[0mfit\u001b[0m\u001b[1;33m(\u001b[0m\u001b[0mX_train\u001b[0m\u001b[1;33m,\u001b[0m \u001b[1;33m**\u001b[0m\u001b[0mfit_params\u001b[0m\u001b[1;33m)\u001b[0m\u001b[1;33m\u001b[0m\u001b[1;33m\u001b[0m\u001b[0m\n\u001b[0;32m    527\u001b[0m         \u001b[1;32melse\u001b[0m\u001b[1;33m:\u001b[0m\u001b[1;33m\u001b[0m\u001b[1;33m\u001b[0m\u001b[0m\n\u001b[1;32m--> 528\u001b[1;33m             \u001b[0mestimator\u001b[0m\u001b[1;33m.\u001b[0m\u001b[0mfit\u001b[0m\u001b[1;33m(\u001b[0m\u001b[0mX_train\u001b[0m\u001b[1;33m,\u001b[0m \u001b[0my_train\u001b[0m\u001b[1;33m,\u001b[0m \u001b[1;33m**\u001b[0m\u001b[0mfit_params\u001b[0m\u001b[1;33m)\u001b[0m\u001b[1;33m\u001b[0m\u001b[1;33m\u001b[0m\u001b[0m\n\u001b[0m\u001b[0;32m    529\u001b[0m \u001b[1;33m\u001b[0m\u001b[0m\n\u001b[0;32m    530\u001b[0m     \u001b[1;32mexcept\u001b[0m \u001b[0mException\u001b[0m \u001b[1;32mas\u001b[0m \u001b[0me\u001b[0m\u001b[1;33m:\u001b[0m\u001b[1;33m\u001b[0m\u001b[1;33m\u001b[0m\u001b[0m\n",
      "\u001b[1;32mC:\\ProgramData\\Anaconda3\\lib\\site-packages\\sklearn\\svm\\base.py\u001b[0m in \u001b[0;36mfit\u001b[1;34m(self, X, y, sample_weight)\u001b[0m\n\u001b[0;32m    210\u001b[0m \u001b[1;33m\u001b[0m\u001b[0m\n\u001b[0;32m    211\u001b[0m         \u001b[0mseed\u001b[0m \u001b[1;33m=\u001b[0m \u001b[0mrnd\u001b[0m\u001b[1;33m.\u001b[0m\u001b[0mrandint\u001b[0m\u001b[1;33m(\u001b[0m\u001b[0mnp\u001b[0m\u001b[1;33m.\u001b[0m\u001b[0miinfo\u001b[0m\u001b[1;33m(\u001b[0m\u001b[1;34m'i'\u001b[0m\u001b[1;33m)\u001b[0m\u001b[1;33m.\u001b[0m\u001b[0mmax\u001b[0m\u001b[1;33m)\u001b[0m\u001b[1;33m\u001b[0m\u001b[1;33m\u001b[0m\u001b[0m\n\u001b[1;32m--> 212\u001b[1;33m         \u001b[0mfit\u001b[0m\u001b[1;33m(\u001b[0m\u001b[0mX\u001b[0m\u001b[1;33m,\u001b[0m \u001b[0my\u001b[0m\u001b[1;33m,\u001b[0m \u001b[0msample_weight\u001b[0m\u001b[1;33m,\u001b[0m \u001b[0msolver_type\u001b[0m\u001b[1;33m,\u001b[0m \u001b[0mkernel\u001b[0m\u001b[1;33m,\u001b[0m \u001b[0mrandom_seed\u001b[0m\u001b[1;33m=\u001b[0m\u001b[0mseed\u001b[0m\u001b[1;33m)\u001b[0m\u001b[1;33m\u001b[0m\u001b[1;33m\u001b[0m\u001b[0m\n\u001b[0m\u001b[0;32m    213\u001b[0m         \u001b[1;31m# see comment on the other call to np.iinfo in this file\u001b[0m\u001b[1;33m\u001b[0m\u001b[1;33m\u001b[0m\u001b[1;33m\u001b[0m\u001b[0m\n\u001b[0;32m    214\u001b[0m \u001b[1;33m\u001b[0m\u001b[0m\n",
      "\u001b[1;32mC:\\ProgramData\\Anaconda3\\lib\\site-packages\\sklearn\\svm\\base.py\u001b[0m in \u001b[0;36m_dense_fit\u001b[1;34m(self, X, y, sample_weight, solver_type, kernel, random_seed)\u001b[0m\n\u001b[0;32m    269\u001b[0m                 \u001b[0mcache_size\u001b[0m\u001b[1;33m=\u001b[0m\u001b[0mself\u001b[0m\u001b[1;33m.\u001b[0m\u001b[0mcache_size\u001b[0m\u001b[1;33m,\u001b[0m \u001b[0mcoef0\u001b[0m\u001b[1;33m=\u001b[0m\u001b[0mself\u001b[0m\u001b[1;33m.\u001b[0m\u001b[0mcoef0\u001b[0m\u001b[1;33m,\u001b[0m\u001b[1;33m\u001b[0m\u001b[1;33m\u001b[0m\u001b[0m\n\u001b[0;32m    270\u001b[0m                 \u001b[0mgamma\u001b[0m\u001b[1;33m=\u001b[0m\u001b[0mself\u001b[0m\u001b[1;33m.\u001b[0m\u001b[0m_gamma\u001b[0m\u001b[1;33m,\u001b[0m \u001b[0mepsilon\u001b[0m\u001b[1;33m=\u001b[0m\u001b[0mself\u001b[0m\u001b[1;33m.\u001b[0m\u001b[0mepsilon\u001b[0m\u001b[1;33m,\u001b[0m\u001b[1;33m\u001b[0m\u001b[1;33m\u001b[0m\u001b[0m\n\u001b[1;32m--> 271\u001b[1;33m                 max_iter=self.max_iter, random_seed=random_seed)\n\u001b[0m\u001b[0;32m    272\u001b[0m \u001b[1;33m\u001b[0m\u001b[0m\n\u001b[0;32m    273\u001b[0m         \u001b[0mself\u001b[0m\u001b[1;33m.\u001b[0m\u001b[0m_warn_from_fit_status\u001b[0m\u001b[1;33m(\u001b[0m\u001b[1;33m)\u001b[0m\u001b[1;33m\u001b[0m\u001b[1;33m\u001b[0m\u001b[0m\n",
      "\u001b[1;31mKeyboardInterrupt\u001b[0m: "
     ]
    }
   ],
   "source": [
    "svc = SVC(kernel='linear')\n",
    "svc_scores_vector_bal = cross_validate(svc,X_bal,y_bal,scoring=scoring,cv=5)"
   ]
  },
  {
   "cell_type": "code",
   "execution_count": 162,
   "metadata": {
    "collapsed": true
   },
   "outputs": [],
   "source": [
    "svc_scores_vector_unbal = cross_validate(svc,X_unbal,y_unbal,scoring=scoring,cv=5)"
   ]
  },
  {
   "cell_type": "code",
   "execution_count": 168,
   "metadata": {},
   "outputs": [
    {
     "name": "stdout",
     "output_type": "stream",
     "text": [
      "Balanced:\n",
      "\n",
      "\n",
      "test_accuracy\n",
      "Average test_accuracy\n",
      "0.7248\n",
      "Std of test_accuracy\n",
      "0.016541\n",
      "\n",
      "test_precision_macro\n",
      "Average test_precision_macro\n",
      "0.7257\n",
      "Std of test_precision_macro\n",
      "0.016587\n",
      "\n",
      "test_recall_macro\n",
      "Average test_recall_macro\n",
      "0.7248\n",
      "Std of test_recall_macro\n",
      "0.016541\n",
      "\n",
      "test_precision_above\n",
      "Average test_precision_above\n",
      "0.7393\n",
      "Std of test_precision_above\n",
      "0.018025\n",
      "\n",
      "test_recall_above\n",
      "Average test_recall_above\n",
      "0.6947\n",
      "Std of test_recall_above\n",
      "0.020091\n",
      "\n",
      "Unbalanced:\n",
      "\n",
      "\n",
      "test_accuracy\n",
      "Average test_accuracy\n",
      "0.7793\n",
      "Std of test_accuracy\n",
      "0.006631\n",
      "\n",
      "test_precision_macro\n",
      "Average test_precision_macro\n",
      "0.7379\n",
      "Std of test_precision_macro\n",
      "0.014651\n",
      "\n",
      "test_recall_macro\n",
      "Average test_recall_macro\n",
      "0.6628\n",
      "Std of test_recall_macro\n",
      "0.005068\n",
      "\n",
      "test_precision_above\n",
      "Average test_precision_above\n",
      "0.6756\n",
      "Std of test_precision_above\n",
      "0.028205\n",
      "\n",
      "test_recall_above\n",
      "Average test_recall_above\n",
      "0.4\n",
      "Std of test_recall_above\n",
      "0.008768\n"
     ]
    }
   ],
   "source": [
    "print('Balanced:\\n')\n",
    "print_scores(svc_scores_vector_bal)\n",
    "print('\\nUnbalanced:\\n')\n",
    "print_scores(svc_scores_vector_unbal)"
   ]
  },
  {
   "cell_type": "markdown",
   "metadata": {},
   "source": [
    "## MLP using vector input"
   ]
  },
  {
   "cell_type": "code",
   "execution_count": 176,
   "metadata": {},
   "outputs": [
    {
     "name": "stderr",
     "output_type": "stream",
     "text": [
      "[Parallel(n_jobs=1)]: Using backend SequentialBackend with 1 concurrent workers.\n",
      "[Parallel(n_jobs=1)]: Done   5 out of   5 | elapsed:    2.1s finished\n",
      "[Parallel(n_jobs=1)]: Using backend SequentialBackend with 1 concurrent workers.\n",
      "[Parallel(n_jobs=1)]: Done   5 out of   5 | elapsed:    3.7s finished\n"
     ]
    }
   ],
   "source": [
    "mlp = MLPClassifier(activation='relu', alpha=1e-05, batch_size='auto', beta_1=0.9,\n",
    "                             beta_2=0.999, early_stopping=False, epsilon=1e-08,\n",
    "                             hidden_layer_sizes=(10), learning_rate='constant',\n",
    "                             learning_rate_init=0.001, max_iter=200, momentum=0.9,\n",
    "                             nesterovs_momentum=True, power_t=0.5, random_state=1, shuffle=True,\n",
    "                             solver='lbfgs', tol=0.0001, validation_fraction=0.1, verbose=False,\n",
    "                             warm_start=False)\n",
    "mlp_scores_vector_bal = cross_validate(mlp,X_bal,y_bal,scoring=scoring,cv=5,verbose=1)\n",
    "mlp_scores_vector_unbal = cross_validate(mlp,X_unbal,y_unbal,scoring=scoring,cv=5,verbose=1)"
   ]
  },
  {
   "cell_type": "code",
   "execution_count": 177,
   "metadata": {},
   "outputs": [
    {
     "name": "stdout",
     "output_type": "stream",
     "text": [
      "Balanced:\n",
      "\n",
      "\n",
      "test_accuracy\n",
      "Average test_accuracy\n",
      "0.7173\n",
      "Std of test_accuracy\n",
      "0.005652\n",
      "\n",
      "test_precision_macro\n",
      "Average test_precision_macro\n",
      "0.718\n",
      "Std of test_precision_macro\n",
      "0.00579\n",
      "\n",
      "test_recall_macro\n",
      "Average test_recall_macro\n",
      "0.7173\n",
      "Std of test_recall_macro\n",
      "0.005652\n",
      "\n",
      "test_precision_above\n",
      "Average test_precision_above\n",
      "0.7285\n",
      "Std of test_precision_above\n",
      "0.009143\n",
      "\n",
      "test_recall_above\n",
      "Average test_recall_above\n",
      "0.6932\n",
      "Std of test_recall_above\n",
      "0.018356\n",
      "\n",
      "Unbalanced:\n",
      "\n",
      "\n",
      "test_accuracy\n",
      "Average test_accuracy\n",
      "0.7768\n",
      "Std of test_accuracy\n",
      "0.00894\n",
      "\n",
      "test_precision_macro\n",
      "Average test_precision_macro\n",
      "0.7272\n",
      "Std of test_precision_macro\n",
      "0.015822\n",
      "\n",
      "test_recall_macro\n",
      "Average test_recall_macro\n",
      "0.6726\n",
      "Std of test_recall_macro\n",
      "0.011557\n",
      "\n",
      "test_precision_above\n",
      "Average test_precision_above\n",
      "0.647\n",
      "Std of test_precision_above\n",
      "0.028669\n",
      "\n",
      "test_recall_above\n",
      "Average test_recall_above\n",
      "0.4376\n",
      "Std of test_recall_above\n",
      "0.024317\n"
     ]
    }
   ],
   "source": [
    "print('Balanced:\\n')\n",
    "print_scores(mlp_scores_vector_bal)\n",
    "print('\\nUnbalanced:\\n')\n",
    "print_scores(mlp_scores_vector_unbal)"
   ]
  },
  {
   "cell_type": "markdown",
   "metadata": {},
   "source": [
    "# Save models and performance results to file"
   ]
  },
  {
   "cell_type": "code",
   "execution_count": 62,
   "metadata": {
    "collapsed": true
   },
   "outputs": [],
   "source": [
    "pkl.dump(svc,open('../predictive_models/svm_model.pkl','wb'))\n",
    "pkl.dump(scores,open('../predictive_models/svm_5_fold_scores.pkl','wb'))"
   ]
  },
  {
   "cell_type": "markdown",
   "metadata": {},
   "source": [
    "# Feature importances using vectors"
   ]
  },
  {
   "cell_type": "markdown",
   "metadata": {},
   "source": [
    "Fit the whole dataset to examine the most important features"
   ]
  },
  {
   "cell_type": "code",
   "execution_count": 221,
   "metadata": {},
   "outputs": [
    {
     "data": {
      "text/plain": [
       "SVC(C=1.0, cache_size=200, class_weight=None, coef0=0.0,\n",
       "  decision_function_shape='ovr', degree=3, gamma='auto_deprecated',\n",
       "  kernel='linear', max_iter=-1, probability=False, random_state=None,\n",
       "  shrinking=True, tol=0.001, verbose=False)"
      ]
     },
     "execution_count": 221,
     "metadata": {},
     "output_type": "execute_result"
    }
   ],
   "source": [
    "svc_feat_imp = SVC(kernel='linear')\n",
    "svc_feat_imp.fit(X_bal,y_bal)"
   ]
  },
  {
   "cell_type": "code",
   "execution_count": 228,
   "metadata": {},
   "outputs": [
    {
     "data": {
      "image/png": "[encoded data removed]",
      "text/plain": [
       "<Figure size 720x2880 with 1 Axes>"
      ]
     },
     "metadata": {},
     "output_type": "display_data"
    }
   ],
   "source": [
    "from pylab import rcParams\n",
    "rcParams.update({'font.size': 18})\n",
    "rcParams['figure.figsize'] = 10, 40\n",
    "\n",
    "def f_importances(coef, names):\n",
    "    imp = coef[0]\n",
    "    imp,names = zip(*sorted(zip(imp,names)))\n",
    "    plt.barh(range(len(names)), imp, align='center')\n",
    "    plt.yticks(range(len(names)), names)\n",
    "    plt.title('Vector dimension coefficients\\n(linear kernel SVC)')\n",
    "    plt.show()\n",
    "    return [imp,names]\n",
    "    \n",
    "f_imp = f_importances(svc_feat_imp.coef_, X_bal.columns[0:100])"
   ]
  },
  {
   "cell_type": "code",
   "execution_count": 235,
   "metadata": {
    "collapsed": true
   },
   "outputs": [],
   "source": [
    "import pickle"
   ]
  },
  {
   "cell_type": "code",
   "execution_count": 239,
   "metadata": {},
   "outputs": [],
   "source": [
    "with open('./negative.pkl','wb') as f:\n",
    "    pickle.dump(f_imp[1][0:47],f)"
   ]
  },
  {
   "cell_type": "code",
   "execution_count": 240,
   "metadata": {},
   "outputs": [],
   "source": [
    "with open('./positive.pkl','wb') as f:\n",
    "    pickle.dump(f_imp[1][47:],f)"
   ]
  },
  {
   "cell_type": "code",
   "execution_count": null,
   "metadata": {
    "collapsed": true
   },
   "outputs": [],
   "source": []
  }
 ],
 "metadata": {
  "kernelspec": {
   "display_name": "Python 3",
   "language": "python",
   "name": "python3"
  },
  "language_info": {
   "codemirror_mode": {
    "name": "ipython",
    "version": 3
   },
   "file_extension": ".py",
   "mimetype": "text/x-python",
   "name": "python",
   "nbconvert_exporter": "python",
   "pygments_lexer": "ipython3",
   "version": "3.6.7"
  }
 },
 "nbformat": 4,
 "nbformat_minor": 2
}
