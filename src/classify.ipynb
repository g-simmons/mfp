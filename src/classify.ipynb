{
 "cells": [
  {
   "cell_type": "code",
   "execution_count": 139,
   "metadata": {
    "collapsed": true
   },
   "outputs": [],
   "source": [
    "import pandas as pd\n",
    "from sklearn.svm import SVC, LinearSVC\n",
    "from sklearn.metrics import accuracy_score, precision_score, recall_score\n",
    "from sklearn.model_selection import cross_validate\n",
    "from sklearn.neural_network import MLPClassifier\n",
    "from sklearn.metrics import make_scorer\n",
    "from sklearn.preprocessing import LabelEncoder\n",
    "import numpy as np\n",
    "import pickle as pkl\n",
    "from xgboost import XGBClassifier\n",
    "import json\n",
    "from svmclassifier import SVMClassifier\n",
    "from nnclassifier import NNClassifier\n",
    "import matplotlib.pyplot as plt"
   ]
  },
  {
   "cell_type": "markdown",
   "metadata": {},
   "source": [
    "\n",
    "## Load the one-hot encoded data\n",
    "Use one-hot token method, since this performed better than category using the taxonomy  \n",
    "`onehot_feature.json` is created using `onehot.py`"
   ]
  },
  {
   "cell_type": "code",
   "execution_count": 2,
   "metadata": {
    "collapsed": true
   },
   "outputs": [],
   "source": [
    "with open(\"../data/onehot_feature.json\", 'r') as f:\n",
    "    users = json.load(f)"
   ]
  },
  {
   "cell_type": "markdown",
   "metadata": {},
   "source": [
    "### Remove \"on target\" class"
   ]
  },
  {
   "cell_type": "code",
   "execution_count": 3,
   "metadata": {
    "collapsed": true
   },
   "outputs": [],
   "source": [
    "data = [user for user in users if user[\"label\"] != 2]"
   ]
  },
  {
   "cell_type": "markdown",
   "metadata": {},
   "source": [
    "### Split the data into model input and output"
   ]
  },
  {
   "cell_type": "code",
   "execution_count": 4,
   "metadata": {
    "collapsed": true
   },
   "outputs": [],
   "source": [
    "le = LabelEncoder()\n",
    "\n",
    "X_one_hot = [np.array(user[\"feature\"]) for user in data]\n",
    "\n",
    "labels = [user[\"label\"] for user in data]\n",
    "y_one_hot = le.fit_transform(labels)"
   ]
  },
  {
   "cell_type": "markdown",
   "metadata": {},
   "source": [
    "## SVM with one-hot encoding input"
   ]
  },
  {
   "cell_type": "code",
   "execution_count": 40,
   "metadata": {
    "collapsed": true
   },
   "outputs": [],
   "source": [
    "scoring = {'accuracy':'accuracy',\n",
    "           'precision_macro':make_scorer(precision_score,average='macro'),\n",
    "           'recall_macro':make_scorer(recall_score,average='macro'),\n",
    "           'precision_above':make_scorer(precision_score,average='binary',pos_label='above'),\n",
    "           'recall_above':make_scorer(recall_score,average='binary',pos_label='above')}"
   ]
  },
  {
   "cell_type": "code",
   "execution_count": 6,
   "metadata": {
    "collapsed": true
   },
   "outputs": [],
   "source": [
    "svc = SVC(kernel='linear')\n",
    "svc_scores_one_hot = cross_validate(svc,X_one_hot,y_one_hot,scoring=scoring,cv=5)"
   ]
  },
  {
   "cell_type": "code",
   "execution_count": 44,
   "metadata": {
    "collapsed": true
   },
   "outputs": [],
   "source": [
    "def print_scores(scores):\n",
    "    for metric in ['test_accuracy','test_precision_macro','test_recall_macro','test_precision_above','test_recall_above']:\n",
    "        print('\\n' + metric)\n",
    "        print('Average ' + metric)\n",
    "        print(round(np.mean(scores[metric]),4))\n",
    "        print('Std of ' + metric)\n",
    "        print(round(np.std(scores[metric]),6))"
   ]
  },
  {
   "cell_type": "code",
   "execution_count": 16,
   "metadata": {},
   "outputs": [
    {
     "name": "stdout",
     "output_type": "stream",
     "text": [
      "\n",
      "test_accuracy\n",
      "Average test_accuracy\n",
      "0.6608\n",
      "Std of test_accuracy\n",
      "0.010967\n",
      "\n",
      "test_precision_macro\n",
      "Average test_precision_macro\n",
      "0.5581\n",
      "Std of test_precision_macro\n",
      "0.011989\n",
      "\n",
      "test_recall_macro\n",
      "Average test_recall_macro\n",
      "0.5685\n",
      "Std of test_recall_macro\n",
      "0.014025\n",
      "\n",
      "test_precision_micro\n",
      "Average test_precision_micro\n",
      "0.6608\n",
      "Std of test_precision_micro\n",
      "0.010967\n",
      "\n",
      "test_recall_micro\n",
      "Average test_recall_micro\n",
      "0.6608\n",
      "Std of test_recall_micro\n",
      "0.010967\n"
     ]
    }
   ],
   "source": [
    "print_scores(svc_scores_one_hot)"
   ]
  },
  {
   "cell_type": "markdown",
   "metadata": {},
   "source": [
    "## MLP with one-hot encoding input"
   ]
  },
  {
   "cell_type": "code",
   "execution_count": 9,
   "metadata": {
    "collapsed": true
   },
   "outputs": [],
   "source": [
    "mlp_one_hot = MLPClassifier(activation='relu', alpha=1e-05, batch_size='auto', beta_1=0.9,\n",
    "                             beta_2=0.999, early_stopping=False, epsilon=1e-08,\n",
    "                             hidden_layer_sizes=(600), learning_rate='constant',\n",
    "                             learning_rate_init=0.001, max_iter=200, momentum=0.9,\n",
    "                             nesterovs_momentum=True, power_t=0.5, random_state=1, shuffle=True,\n",
    "                             solver='lbfgs', tol=0.0001, validation_fraction=0.1, verbose=False,\n",
    "                             warm_start=False)"
   ]
  },
  {
   "cell_type": "code",
   "execution_count": 10,
   "metadata": {
    "collapsed": true
   },
   "outputs": [],
   "source": [
    "mlp_scores_one_hot = cross_validate(mlp_one_hot,X_one_hot,y_one_hot,scoring=scoring,cv=5)"
   ]
  },
  {
   "cell_type": "code",
   "execution_count": 17,
   "metadata": {},
   "outputs": [
    {
     "name": "stdout",
     "output_type": "stream",
     "text": [
      "\n",
      "test_accuracy\n",
      "Average test_accuracy\n",
      "0.744\n",
      "Std of test_accuracy\n",
      "0.018301\n",
      "\n",
      "test_precision_macro\n",
      "Average test_precision_macro\n",
      "0.6175\n",
      "Std of test_precision_macro\n",
      "0.030765\n",
      "\n",
      "test_recall_macro\n",
      "Average test_recall_macro\n",
      "0.5958\n",
      "Std of test_recall_macro\n",
      "0.022283\n",
      "\n",
      "test_precision_micro\n",
      "Average test_precision_micro\n",
      "0.744\n",
      "Std of test_precision_micro\n",
      "0.018301\n",
      "\n",
      "test_recall_micro\n",
      "Average test_recall_micro\n",
      "0.744\n",
      "Std of test_recall_micro\n",
      "0.018301\n"
     ]
    }
   ],
   "source": [
    "print_scores(mlp_scores_one_hot)"
   ]
  },
  {
   "cell_type": "markdown",
   "metadata": {},
   "source": [
    "## Prepare vectorized data for classification"
   ]
  },
  {
   "cell_type": "markdown",
   "metadata": {},
   "source": [
    "### Load the model input\n",
    "This input is constructed using `construct_classifier_input_data.ipynb`"
   ]
  },
  {
   "cell_type": "code",
   "execution_count": 18,
   "metadata": {
    "collapsed": true
   },
   "outputs": [],
   "source": [
    "data = pd.read_csv('../data/food_vectors_w2v.csv',header=None)\n",
    "data = data.rename(columns={0:'user',1:'date',102:'goal',103:'actual',104:'label'})"
   ]
  },
  {
   "cell_type": "markdown",
   "metadata": {},
   "source": [
    "### Preprocessing and aggregation by user"
   ]
  },
  {
   "cell_type": "markdown",
   "metadata": {},
   "source": [
    "Following the original paper, we discard days where less than 100 calories were logged"
   ]
  },
  {
   "cell_type": "code",
   "execution_count": 19,
   "metadata": {
    "collapsed": true
   },
   "outputs": [],
   "source": [
    "data = data[data['actual'] > 100]"
   ]
  },
  {
   "cell_type": "markdown",
   "metadata": {},
   "source": [
    "### Remove \"on target\" class\n",
    "Following the original paper, we discard the 'on_target' label, simplifying the problem to binary classification"
   ]
  },
  {
   "cell_type": "code",
   "execution_count": 20,
   "metadata": {
    "collapsed": true
   },
   "outputs": [],
   "source": [
    "data = data[data['label'] != 'on_target']"
   ]
  },
  {
   "cell_type": "code",
   "execution_count": 23,
   "metadata": {},
   "outputs": [],
   "source": [
    "# data.head()"
   ]
  },
  {
   "cell_type": "markdown",
   "metadata": {},
   "source": [
    "### Aggregate the data by user\n",
    "We group the data by user, aggregate the vectors using the mean, and aggregate the users by taking the modal class.  \n",
    "I.e. if most days that are recorded for a given user have been labeled \"below\", we label this user as \"below\""
   ]
  },
  {
   "cell_type": "code",
   "execution_count": 24,
   "metadata": {
    "collapsed": true
   },
   "outputs": [],
   "source": [
    "groups = data.groupby('user')"
   ]
  },
  {
   "cell_type": "markdown",
   "metadata": {},
   "source": [
    "Display the number of users with more than 30 days logged"
   ]
  },
  {
   "cell_type": "code",
   "execution_count": 25,
   "metadata": {},
   "outputs": [
    {
     "data": {
      "text/plain": [
       "4781"
      ]
     },
     "execution_count": 25,
     "metadata": {},
     "output_type": "execute_result"
    }
   ],
   "source": [
    "len(groups['user'].count()[lambda x: x >= 30].index)"
   ]
  },
  {
   "cell_type": "markdown",
   "metadata": {},
   "source": [
    "Construct a new dataframe of the aggregate data"
   ]
  },
  {
   "cell_type": "code",
   "execution_count": 26,
   "metadata": {
    "collapsed": true
   },
   "outputs": [],
   "source": [
    "grouped_y = groups['label'].agg(lambda x:x.value_counts().index[0])\n",
    "grouped_x = groups.mean()\n",
    "grouped = grouped_x.copy()\n",
    "grouped['label'] = grouped_y\n",
    "grouped_above_30 = grouped.loc[groups['user'].count()[lambda x: x >= 30].index,:]"
   ]
  },
  {
   "cell_type": "markdown",
   "metadata": {},
   "source": [
    "### Check the number of users in each class"
   ]
  },
  {
   "cell_type": "code",
   "execution_count": 30,
   "metadata": {},
   "outputs": [
    {
     "name": "stdout",
     "output_type": "stream",
     "text": [
      "Above: 1330\n",
      "Below: 3451\n"
     ]
    }
   ],
   "source": [
    "above_num = sum(grouped_above_30['label'] == 'above')\n",
    "below_num = sum(grouped_above_30['label'] == 'below')\n",
    "\n",
    "print(\"Above: \" + str(above_num))\n",
    "print(\"Below: \" + str(below_num))"
   ]
  },
  {
   "cell_type": "markdown",
   "metadata": {},
   "source": [
    "### Balance the classes\n",
    "We should try classification with the classes balanced, as the original paper did"
   ]
  },
  {
   "cell_type": "code",
   "execution_count": 28,
   "metadata": {
    "collapsed": true
   },
   "outputs": [],
   "source": [
    "grouped_above_30_balanced = grouped_above_30.copy()\n",
    "below_indices = grouped_above_30_balanced[grouped_above_30_balanced['label'] == 'below'].index\n",
    "n_remove = below_num - above_num\n",
    "drop_indices = np.random.choice(below_indices, n_remove, replace=False)\n",
    "grouped_above_30_balanced = grouped_above_30_balanced.drop(drop_indices)"
   ]
  },
  {
   "cell_type": "code",
   "execution_count": 36,
   "metadata": {},
   "outputs": [
    {
     "name": "stdout",
     "output_type": "stream",
     "text": [
      "Above: 1330\n",
      "Below: 1330\n"
     ]
    }
   ],
   "source": [
    "above_num_balanced = sum(grouped_above_30_balanced['label'] == 'above')\n",
    "below_num_balanced = sum(grouped_above_30_balanced['label'] == 'below')\n",
    "\n",
    "print(\"Above: \" + str(above_num_balanced))\n",
    "print(\"Below: \" + str(below_num_balanced))"
   ]
  },
  {
   "cell_type": "markdown",
   "metadata": {},
   "source": [
    "### Split the data into model input and output"
   ]
  },
  {
   "cell_type": "code",
   "execution_count": 169,
   "metadata": {
    "collapsed": true
   },
   "outputs": [],
   "source": [
    "# grouped.head()"
   ]
  },
  {
   "cell_type": "code",
   "execution_count": 132,
   "metadata": {
    "collapsed": true
   },
   "outputs": [],
   "source": [
    "y_bal = grouped_above_30_balanced.loc[:,'label']\n",
    "X_bal = grouped_above_30_balanced.iloc[:,0:100]\n",
    "y_unbal = grouped_above_30.loc[:,'label']\n",
    "X_unbal = grouped_above_30.iloc[:,0:100]"
   ]
  },
  {
   "cell_type": "code",
   "execution_count": 135,
   "metadata": {},
   "outputs": [
    {
     "data": {
      "text/html": [
       "<div>\n",
       "<style scoped>\n",
       "    .dataframe tbody tr th:only-of-type {\n",
       "        vertical-align: middle;\n",
       "    }\n",
       "\n",
       "    .dataframe tbody tr th {\n",
       "        vertical-align: top;\n",
       "    }\n",
       "\n",
       "    .dataframe thead th {\n",
       "        text-align: right;\n",
       "    }\n",
       "</style>\n",
       "<table border=\"1\" class=\"dataframe\">\n",
       "  <thead>\n",
       "    <tr style=\"text-align: right;\">\n",
       "      <th></th>\n",
       "      <th>2</th>\n",
       "      <th>3</th>\n",
       "      <th>4</th>\n",
       "      <th>5</th>\n",
       "      <th>6</th>\n",
       "      <th>7</th>\n",
       "      <th>8</th>\n",
       "      <th>9</th>\n",
       "      <th>10</th>\n",
       "      <th>11</th>\n",
       "      <th>...</th>\n",
       "      <th>92</th>\n",
       "      <th>93</th>\n",
       "      <th>94</th>\n",
       "      <th>95</th>\n",
       "      <th>96</th>\n",
       "      <th>97</th>\n",
       "      <th>98</th>\n",
       "      <th>99</th>\n",
       "      <th>100</th>\n",
       "      <th>101</th>\n",
       "    </tr>\n",
       "    <tr>\n",
       "      <th>user</th>\n",
       "      <th></th>\n",
       "      <th></th>\n",
       "      <th></th>\n",
       "      <th></th>\n",
       "      <th></th>\n",
       "      <th></th>\n",
       "      <th></th>\n",
       "      <th></th>\n",
       "      <th></th>\n",
       "      <th></th>\n",
       "      <th></th>\n",
       "      <th></th>\n",
       "      <th></th>\n",
       "      <th></th>\n",
       "      <th></th>\n",
       "      <th></th>\n",
       "      <th></th>\n",
       "      <th></th>\n",
       "      <th></th>\n",
       "      <th></th>\n",
       "      <th></th>\n",
       "    </tr>\n",
       "  </thead>\n",
       "  <tbody>\n",
       "    <tr>\n",
       "      <th>1</th>\n",
       "      <td>-2.311188</td>\n",
       "      <td>0.601337</td>\n",
       "      <td>1.885413</td>\n",
       "      <td>-2.729402</td>\n",
       "      <td>4.550306</td>\n",
       "      <td>2.021628</td>\n",
       "      <td>-2.155324</td>\n",
       "      <td>-6.344146</td>\n",
       "      <td>1.571412</td>\n",
       "      <td>2.380867</td>\n",
       "      <td>...</td>\n",
       "      <td>2.675687</td>\n",
       "      <td>4.705382</td>\n",
       "      <td>-0.231806</td>\n",
       "      <td>2.960745</td>\n",
       "      <td>0.624118</td>\n",
       "      <td>-2.475176</td>\n",
       "      <td>-3.188601</td>\n",
       "      <td>-0.422448</td>\n",
       "      <td>1.336241</td>\n",
       "      <td>0.862288</td>\n",
       "    </tr>\n",
       "    <tr>\n",
       "      <th>2</th>\n",
       "      <td>-3.047746</td>\n",
       "      <td>-3.883641</td>\n",
       "      <td>0.563460</td>\n",
       "      <td>-6.729215</td>\n",
       "      <td>1.274230</td>\n",
       "      <td>0.571148</td>\n",
       "      <td>-0.868166</td>\n",
       "      <td>-5.258172</td>\n",
       "      <td>-2.530418</td>\n",
       "      <td>3.050464</td>\n",
       "      <td>...</td>\n",
       "      <td>5.009340</td>\n",
       "      <td>-5.001188</td>\n",
       "      <td>-2.116675</td>\n",
       "      <td>5.150116</td>\n",
       "      <td>2.202022</td>\n",
       "      <td>1.428349</td>\n",
       "      <td>-0.910204</td>\n",
       "      <td>-1.406402</td>\n",
       "      <td>1.881557</td>\n",
       "      <td>7.544864</td>\n",
       "    </tr>\n",
       "    <tr>\n",
       "      <th>5</th>\n",
       "      <td>1.332783</td>\n",
       "      <td>0.171903</td>\n",
       "      <td>0.491084</td>\n",
       "      <td>-14.799734</td>\n",
       "      <td>0.124638</td>\n",
       "      <td>-0.159724</td>\n",
       "      <td>0.249011</td>\n",
       "      <td>-8.006274</td>\n",
       "      <td>6.429543</td>\n",
       "      <td>3.319083</td>\n",
       "      <td>...</td>\n",
       "      <td>-5.171028</td>\n",
       "      <td>8.923728</td>\n",
       "      <td>3.088137</td>\n",
       "      <td>0.914334</td>\n",
       "      <td>0.778332</td>\n",
       "      <td>-1.048854</td>\n",
       "      <td>-8.316465</td>\n",
       "      <td>3.608444</td>\n",
       "      <td>2.344025</td>\n",
       "      <td>-13.186099</td>\n",
       "    </tr>\n",
       "    <tr>\n",
       "      <th>6</th>\n",
       "      <td>3.396972</td>\n",
       "      <td>-1.906971</td>\n",
       "      <td>-1.610252</td>\n",
       "      <td>-4.995850</td>\n",
       "      <td>3.714213</td>\n",
       "      <td>-3.817587</td>\n",
       "      <td>-0.115593</td>\n",
       "      <td>-0.948150</td>\n",
       "      <td>0.135972</td>\n",
       "      <td>-0.620767</td>\n",
       "      <td>...</td>\n",
       "      <td>-0.961472</td>\n",
       "      <td>0.729059</td>\n",
       "      <td>1.552276</td>\n",
       "      <td>1.764376</td>\n",
       "      <td>0.404947</td>\n",
       "      <td>-0.583682</td>\n",
       "      <td>-4.436569</td>\n",
       "      <td>1.076266</td>\n",
       "      <td>-2.755111</td>\n",
       "      <td>-2.462804</td>\n",
       "    </tr>\n",
       "    <tr>\n",
       "      <th>8</th>\n",
       "      <td>6.064229</td>\n",
       "      <td>-6.903434</td>\n",
       "      <td>-1.904085</td>\n",
       "      <td>-6.848285</td>\n",
       "      <td>3.567436</td>\n",
       "      <td>0.638945</td>\n",
       "      <td>-3.506942</td>\n",
       "      <td>-5.297682</td>\n",
       "      <td>-4.952907</td>\n",
       "      <td>5.352559</td>\n",
       "      <td>...</td>\n",
       "      <td>-0.253457</td>\n",
       "      <td>2.025649</td>\n",
       "      <td>0.969770</td>\n",
       "      <td>4.538077</td>\n",
       "      <td>2.679135</td>\n",
       "      <td>0.574010</td>\n",
       "      <td>-7.924501</td>\n",
       "      <td>2.147943</td>\n",
       "      <td>0.836919</td>\n",
       "      <td>6.281952</td>\n",
       "    </tr>\n",
       "  </tbody>\n",
       "</table>\n",
       "<p>5 rows × 100 columns</p>\n",
       "</div>"
      ],
      "text/plain": [
       "           2         3         4          5         6         7         8    \\\n",
       "user                                                                          \n",
       "1    -2.311188  0.601337  1.885413  -2.729402  4.550306  2.021628 -2.155324   \n",
       "2    -3.047746 -3.883641  0.563460  -6.729215  1.274230  0.571148 -0.868166   \n",
       "5     1.332783  0.171903  0.491084 -14.799734  0.124638 -0.159724  0.249011   \n",
       "6     3.396972 -1.906971 -1.610252  -4.995850  3.714213 -3.817587 -0.115593   \n",
       "8     6.064229 -6.903434 -1.904085  -6.848285  3.567436  0.638945 -3.506942   \n",
       "\n",
       "           9         10        11     ...           92        93        94   \\\n",
       "user                                  ...                                     \n",
       "1    -6.344146  1.571412  2.380867    ...      2.675687  4.705382 -0.231806   \n",
       "2    -5.258172 -2.530418  3.050464    ...      5.009340 -5.001188 -2.116675   \n",
       "5    -8.006274  6.429543  3.319083    ...     -5.171028  8.923728  3.088137   \n",
       "6    -0.948150  0.135972 -0.620767    ...     -0.961472  0.729059  1.552276   \n",
       "8    -5.297682 -4.952907  5.352559    ...     -0.253457  2.025649  0.969770   \n",
       "\n",
       "           95        96        97        98        99        100        101  \n",
       "user                                                                         \n",
       "1     2.960745  0.624118 -2.475176 -3.188601 -0.422448  1.336241   0.862288  \n",
       "2     5.150116  2.202022  1.428349 -0.910204 -1.406402  1.881557   7.544864  \n",
       "5     0.914334  0.778332 -1.048854 -8.316465  3.608444  2.344025 -13.186099  \n",
       "6     1.764376  0.404947 -0.583682 -4.436569  1.076266 -2.755111  -2.462804  \n",
       "8     4.538077  2.679135  0.574010 -7.924501  2.147943  0.836919   6.281952  \n",
       "\n",
       "[5 rows x 100 columns]"
      ]
     },
     "execution_count": 135,
     "metadata": {},
     "output_type": "execute_result"
    }
   ],
   "source": [
    "X.head()"
   ]
  },
  {
   "cell_type": "code",
   "execution_count": 127,
   "metadata": {},
   "outputs": [
    {
     "data": {
      "text/plain": [
       "user\n",
       "1    above\n",
       "2    above\n",
       "5    above\n",
       "6    above\n",
       "8    above\n",
       "Name: label, dtype: object"
      ]
     },
     "execution_count": 127,
     "metadata": {},
     "output_type": "execute_result"
    }
   ],
   "source": [
    "y.head()"
   ]
  },
  {
   "cell_type": "markdown",
   "metadata": {},
   "source": [
    "## SVM using vector input"
   ]
  },
  {
   "cell_type": "code",
   "execution_count": 128,
   "metadata": {
    "collapsed": true
   },
   "outputs": [],
   "source": [
    "svc = SVC(kernel='linear')\n",
    "svc_scores_vector = cross_validate(svc,X,y,scoring=scoring,cv=5)"
   ]
  },
  {
   "cell_type": "code",
   "execution_count": 129,
   "metadata": {},
   "outputs": [
    {
     "name": "stdout",
     "output_type": "stream",
     "text": [
      "\n",
      "test_accuracy\n",
      "Average test_accuracy\n",
      "0.7733\n",
      "Std of test_accuracy\n",
      "0.005869\n",
      "\n",
      "test_precision_macro\n",
      "Average test_precision_macro\n",
      "0.7296\n",
      "Std of test_precision_macro\n",
      "0.0136\n",
      "\n",
      "test_recall_macro\n",
      "Average test_recall_macro\n",
      "0.6507\n",
      "Std of test_recall_macro\n",
      "0.006231\n",
      "\n",
      "test_precision_above\n",
      "Average test_precision_above\n",
      "0.6655\n",
      "Std of test_precision_above\n",
      "0.026789\n",
      "\n",
      "test_recall_above\n",
      "Average test_recall_above\n",
      "0.3744\n",
      "Std of test_recall_above\n",
      "0.016056\n"
     ]
    }
   ],
   "source": [
    "print_scores(svc_scores_vector)"
   ]
  },
  {
   "cell_type": "markdown",
   "metadata": {},
   "source": [
    "## MLP using vector input"
   ]
  },
  {
   "cell_type": "code",
   "execution_count": 130,
   "metadata": {},
   "outputs": [
    {
     "name": "stderr",
     "output_type": "stream",
     "text": [
      "[Parallel(n_jobs=1)]: Using backend SequentialBackend with 1 concurrent workers.\n",
      "[Parallel(n_jobs=1)]: Done   5 out of   5 | elapsed:    3.4s finished\n"
     ]
    }
   ],
   "source": [
    "mlp = MLPClassifier(activation='relu', alpha=1e-05, batch_size='auto', beta_1=0.9,\n",
    "                             beta_2=0.999, early_stopping=False, epsilon=1e-08,\n",
    "                             hidden_layer_sizes=(4), learning_rate='constant',\n",
    "                             learning_rate_init=0.001, max_iter=200, momentum=0.9,\n",
    "                             nesterovs_momentum=True, power_t=0.5, random_state=1, shuffle=True,\n",
    "                             solver='lbfgs', tol=0.0001, validation_fraction=0.1, verbose=False,\n",
    "                             warm_start=False)\n",
    "mlp_scores_vector = cross_validate(mlp,X,y,scoring=scoring,cv=5,verbose=1)"
   ]
  },
  {
   "cell_type": "code",
   "execution_count": 131,
   "metadata": {},
   "outputs": [
    {
     "name": "stdout",
     "output_type": "stream",
     "text": [
      "\n",
      "test_accuracy\n",
      "Average test_accuracy\n",
      "0.7718\n",
      "Std of test_accuracy\n",
      "0.007015\n",
      "\n",
      "test_precision_macro\n",
      "Average test_precision_macro\n",
      "0.7182\n",
      "Std of test_precision_macro\n",
      "0.012477\n",
      "\n",
      "test_recall_macro\n",
      "Average test_recall_macro\n",
      "0.6686\n",
      "Std of test_recall_macro\n",
      "0.004921\n",
      "\n",
      "test_precision_above\n",
      "Average test_precision_above\n",
      "0.6307\n",
      "Std of test_precision_above\n",
      "0.023592\n",
      "\n",
      "test_recall_above\n",
      "Average test_recall_above\n",
      "0.4361\n",
      "Std of test_recall_above\n",
      "0.006725\n"
     ]
    }
   ],
   "source": [
    "print_scores(mlp_scores_vector)"
   ]
  },
  {
   "cell_type": "markdown",
   "metadata": {},
   "source": [
    "# Save models and performance results to file"
   ]
  },
  {
   "cell_type": "code",
   "execution_count": 62,
   "metadata": {
    "collapsed": true
   },
   "outputs": [],
   "source": [
    "pkl.dump(svc,open('../predictive_models/svm_model.pkl','wb'))\n",
    "pkl.dump(scores,open('../predictive_models/svm_5_fold_scores.pkl','wb'))"
   ]
  },
  {
   "cell_type": "markdown",
   "metadata": {},
   "source": [
    "# Feature importances using vectors"
   ]
  },
  {
   "cell_type": "markdown",
   "metadata": {},
   "source": [
    "Fit the whole dataset to examine the most important features"
   ]
  },
  {
   "cell_type": "code",
   "execution_count": 136,
   "metadata": {},
   "outputs": [
    {
     "data": {
      "text/plain": [
       "SVC(C=1.0, cache_size=200, class_weight=None, coef0=0.0,\n",
       "  decision_function_shape='ovr', degree=3, gamma='auto_deprecated',\n",
       "  kernel='linear', max_iter=-1, probability=False, random_state=None,\n",
       "  shrinking=True, tol=0.001, verbose=False)"
      ]
     },
     "execution_count": 136,
     "metadata": {},
     "output_type": "execute_result"
    }
   ],
   "source": [
    "svc_feat_imp = SVC(kernel='linear')\n",
    "svc_feat_imp.fit(X_bal,y_bal)"
   ]
  },
  {
   "cell_type": "code",
   "execution_count": null,
   "metadata": {
    "collapsed": true
   },
   "outputs": [],
   "source": [
    "Most positive dimensions: 66, 61, 97\n",
    "Most negative dimensions: 89, 23, 67"
   ]
  },
  {
   "cell_type": "code",
   "execution_count": 144,
   "metadata": {},
   "outputs": [
    {
     "data": {
      "image/png": "[encoded data removed]",
      "text/plain": [
       "<Figure size 1440x1440 with 1 Axes>"
      ]
     },
     "metadata": {},
     "output_type": "display_data"
    }
   ],
   "source": [
    "from pylab import rcParams\n",
    "rcParams['figure.figsize'] = 20, 20\n",
    "\n",
    "def f_importances(coef, names):\n",
    "    imp = coef[0]\n",
    "    imp,names = zip(*sorted(zip(imp,names)))\n",
    "    plt.barh(range(len(names)), imp, align='center')\n",
    "    plt.yticks(range(len(names)), names)\n",
    "    plt.show()\n",
    "    \n",
    "f_importances(svc_feat_imp.coef_, X.columns[0:100])"
   ]
  },
  {
   "cell_type": "code",
   "execution_count": null,
   "metadata": {
    "collapsed": true
   },
   "outputs": [],
   "source": []
  }
 ],
 "metadata": {
  "kernelspec": {
   "display_name": "Python 3",
   "language": "python",
   "name": "python3"
  },
  "language_info": {
   "codemirror_mode": {
    "name": "ipython",
    "version": 3
   },
   "file_extension": ".py",
   "mimetype": "text/x-python",
   "name": "python",
   "nbconvert_exporter": "python",
   "pygments_lexer": "ipython3",
   "version": "3.6.7"
  }
 },
 "nbformat": 4,
 "nbformat_minor": 2
}
