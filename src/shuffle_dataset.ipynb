{
 "cells": [
  {
   "cell_type": "markdown",
   "metadata": {},
   "source": [
    "## Shuffle the dataset and write to new file"
   ]
  },
  {
   "cell_type": "code",
   "execution_count": 1,
   "metadata": {},
   "outputs": [],
   "source": [
    "import random\n",
    "fid = open(\"../data/mfp-diaries.tsv\", \"r\")\n",
    "li = fid.readlines()\n",
    "fid.close()\n",
    "\n",
    "random.shuffle(li)\n",
    "\n",
    "fid = open(\"../data/mfp-diaries-shuffled.tsv\", \"w\")\n",
    "fid.writelines(li)\n",
    "fid.close()"
   ]
  },
  {
   "cell_type": "markdown",
   "metadata": {},
   "source": [
    "## Split the dataset into train and test, approx 80/20, and write to new files"
   ]
  },
  {
   "cell_type": "code",
   "execution_count": 7,
   "metadata": {},
   "outputs": [],
   "source": [
    "fid = open(\"../data/mfp-diaries-shuffled-train.tsv\",\"w\")\n",
    "fid.writelines(li[0:450000])\n",
    "fid.close()"
   ]
  },
  {
   "cell_type": "code",
   "execution_count": 8,
   "metadata": {},
   "outputs": [],
   "source": [
    "fid = open(\"../data/mfp-diaries-shuffled-test.tsv\",\"w\")\n",
    "fid.writelines(li[450000:])\n",
    "fid.close()"
   ]
  }
 ],
 "metadata": {
  "kernelspec": {
   "display_name": "Python 3",
   "language": "python",
   "name": "python3"
  },
  "language_info": {
   "codemirror_mode": {
    "name": "ipython",
    "version": 3
   },
   "file_extension": ".py",
   "mimetype": "text/x-python",
   "name": "python",
   "nbconvert_exporter": "python",
   "pygments_lexer": "ipython3",
   "version": "3.6.7"
  }
 },
 "nbformat": 4,
 "nbformat_minor": 2
}
