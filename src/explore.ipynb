{
 "cells": [
  {
   "cell_type": "code",
   "execution_count": 20,
   "metadata": {
    "collapsed": true
   },
   "outputs": [],
   "source": [
    "import pandas as pd\n",
    "import json"
   ]
  },
  {
   "cell_type": "markdown",
   "metadata": {},
   "source": [
    "## Load the data (chunked)"
   ]
  },
  {
   "cell_type": "code",
   "execution_count": 2,
   "metadata": {
    "collapsed": true
   },
   "outputs": [],
   "source": [
    "data = pd.read_csv('../data/mfp-diaries.tsv',sep='\\t',header=None,chunksize=20000) #read as chunks to save memory"
   ]
  },
  {
   "cell_type": "code",
   "execution_count": 17,
   "metadata": {},
   "outputs": [],
   "source": [
    "ex_chunk = data.get_chunk(20)"
   ]
  },
  {
   "cell_type": "markdown",
   "metadata": {},
   "source": [
    "## Examine an example chunk"
   ]
  },
  {
   "cell_type": "code",
   "execution_count": 31,
   "metadata": {},
   "outputs": [
    {
     "data": {
      "text/html": [
       "<div>\n",
       "<style scoped>\n",
       "    .dataframe tbody tr th:only-of-type {\n",
       "        vertical-align: middle;\n",
       "    }\n",
       "\n",
       "    .dataframe tbody tr th {\n",
       "        vertical-align: top;\n",
       "    }\n",
       "\n",
       "    .dataframe thead th {\n",
       "        text-align: right;\n",
       "    }\n",
       "</style>\n",
       "<table border=\"1\" class=\"dataframe\">\n",
       "  <thead>\n",
       "    <tr style=\"text-align: right;\">\n",
       "      <th></th>\n",
       "      <th>0</th>\n",
       "      <th>1</th>\n",
       "      <th>2</th>\n",
       "      <th>3</th>\n",
       "    </tr>\n",
       "  </thead>\n",
       "  <tbody>\n",
       "    <tr>\n",
       "      <th>32</th>\n",
       "      <td>1</td>\n",
       "      <td>2014-10-17</td>\n",
       "      <td>[{\"meal\": \"MY food\", \"dishes\": [{\"nutritions\":...</td>\n",
       "      <td>{\"total\": [{\"name\": \"Calories\", \"value\": 2516}...</td>\n",
       "    </tr>\n",
       "    <tr>\n",
       "      <th>33</th>\n",
       "      <td>1</td>\n",
       "      <td>2014-10-18</td>\n",
       "      <td>[{\"meal\": \"MY food\", \"dishes\": [{\"nutritions\":...</td>\n",
       "      <td>{\"total\": [{\"name\": \"Calories\", \"value\": 3373}...</td>\n",
       "    </tr>\n",
       "    <tr>\n",
       "      <th>34</th>\n",
       "      <td>1</td>\n",
       "      <td>2014-10-19</td>\n",
       "      <td>[{\"meal\": \"MY food\", \"dishes\": [{\"nutritions\":...</td>\n",
       "      <td>{\"total\": [{\"name\": \"Calories\", \"value\": 3105}...</td>\n",
       "    </tr>\n",
       "    <tr>\n",
       "      <th>35</th>\n",
       "      <td>1</td>\n",
       "      <td>2014-10-20</td>\n",
       "      <td>[{\"meal\": \"MY food\", \"dishes\": [{\"nutritions\":...</td>\n",
       "      <td>{\"total\": [{\"name\": \"Calories\", \"value\": 3218}...</td>\n",
       "    </tr>\n",
       "    <tr>\n",
       "      <th>36</th>\n",
       "      <td>1</td>\n",
       "      <td>2014-10-21</td>\n",
       "      <td>[{\"meal\": \"MY food\", \"dishes\": [{\"nutritions\":...</td>\n",
       "      <td>{\"total\": [{\"name\": \"Calories\", \"value\": 2430}...</td>\n",
       "    </tr>\n",
       "  </tbody>\n",
       "</table>\n",
       "</div>"
      ],
      "text/plain": [
       "    0           1                                                  2  \\\n",
       "32  1  2014-10-17  [{\"meal\": \"MY food\", \"dishes\": [{\"nutritions\":...   \n",
       "33  1  2014-10-18  [{\"meal\": \"MY food\", \"dishes\": [{\"nutritions\":...   \n",
       "34  1  2014-10-19  [{\"meal\": \"MY food\", \"dishes\": [{\"nutritions\":...   \n",
       "35  1  2014-10-20  [{\"meal\": \"MY food\", \"dishes\": [{\"nutritions\":...   \n",
       "36  1  2014-10-21  [{\"meal\": \"MY food\", \"dishes\": [{\"nutritions\":...   \n",
       "\n",
       "                                                    3  \n",
       "32  {\"total\": [{\"name\": \"Calories\", \"value\": 2516}...  \n",
       "33  {\"total\": [{\"name\": \"Calories\", \"value\": 3373}...  \n",
       "34  {\"total\": [{\"name\": \"Calories\", \"value\": 3105}...  \n",
       "35  {\"total\": [{\"name\": \"Calories\", \"value\": 3218}...  \n",
       "36  {\"total\": [{\"name\": \"Calories\", \"value\": 2430}...  "
      ]
     },
     "execution_count": 31,
     "metadata": {},
     "output_type": "execute_result"
    }
   ],
   "source": [
    "ex_chunk.head(5)"
   ]
  },
  {
   "cell_type": "markdown",
   "metadata": {},
   "source": [
    "Second column corresponds to foods for a particular day"
   ]
  },
  {
   "cell_type": "code",
   "execution_count": 30,
   "metadata": {},
   "outputs": [
    {
     "data": {
      "text/plain": [
       "[{'dishes': [{'name': 'my - McDonalds Espresso Pronto® Flat White, 2 TALL',\n",
       "    'nutritions': [{'name': 'Calories', 'value': '412'},\n",
       "     {'name': 'Carbs', 'value': '29'},\n",
       "     {'name': 'Fat', 'value': '24'},\n",
       "     {'name': 'Protein', 'value': '21'},\n",
       "     {'name': 'Sodium', 'value': '258'},\n",
       "     {'name': 'Sugar', 'value': '29'}]},\n",
       "   {'name': 'Uncle Tobys Australia - Vita Brits, 3 Biscuits 33.3g',\n",
       "    'nutritions': [{'name': 'Calories', 'value': '176'},\n",
       "     {'name': 'Carbs', 'value': '33'},\n",
       "     {'name': 'Fat', 'value': '1'},\n",
       "     {'name': 'Protein', 'value': '5'},\n",
       "     {'name': 'Sodium', 'value': '195'},\n",
       "     {'name': 'Sugar', 'value': '0'}]},\n",
       "   {'name': 'Pauls - Smarter White Milk, 600 ml',\n",
       "    'nutritions': [{'name': 'Calories', 'value': '342'},\n",
       "     {'name': 'Carbs', 'value': '34'},\n",
       "     {'name': 'Fat', 'value': '12'},\n",
       "     {'name': 'Protein', 'value': '24'},\n",
       "     {'name': 'Sodium', 'value': '402'},\n",
       "     {'name': 'Sugar', 'value': '34'}]},\n",
       "   {'name': 'Quest Bar - Strawberry Cheesecake, 1 bar',\n",
       "    'nutritions': [{'name': 'Calories', 'value': '160'},\n",
       "     {'name': 'Carbs', 'value': '26'},\n",
       "     {'name': 'Fat', 'value': '5'},\n",
       "     {'name': 'Protein', 'value': '20'},\n",
       "     {'name': 'Sodium', 'value': '250'},\n",
       "     {'name': 'Sugar', 'value': '2'}]},\n",
       "   {'name': 'Quest - Peanut Butter Supreme, 1 bar',\n",
       "    'nutritions': [{'name': 'Calories', 'value': '210'},\n",
       "     {'name': 'Carbs', 'value': '21'},\n",
       "     {'name': 'Fat', 'value': '10'},\n",
       "     {'name': 'Protein', 'value': '20'},\n",
       "     {'name': 'Sodium', 'value': '320'},\n",
       "     {'name': 'Sugar', 'value': '2'}]},\n",
       "   {'name': 'Quest - Apple Pie, 1 Bar (60g)',\n",
       "    'nutritions': [{'name': 'Calories', 'value': '180'},\n",
       "     {'name': 'Carbs', 'value': '25'},\n",
       "     {'name': 'Fat', 'value': '5'},\n",
       "     {'name': 'Protein', 'value': '20'},\n",
       "     {'name': 'Sodium', 'value': '330'},\n",
       "     {'name': 'Sugar', 'value': '4'}]},\n",
       "   {'name': 'Generic - Pork Dumplings - Steamed, 6 Dumpling',\n",
       "    'nutritions': [{'name': 'Calories', 'value': '480'},\n",
       "     {'name': 'Carbs', 'value': '18'},\n",
       "     {'name': 'Fat', 'value': '12'},\n",
       "     {'name': 'Protein', 'value': '24'},\n",
       "     {'name': 'Sodium', 'value': '738'},\n",
       "     {'name': 'Sugar', 'value': '0'}]},\n",
       "   {'name': 'Wonder White - Toast White Bread, 2 slice',\n",
       "    'nutritions': [{'name': 'Calories', 'value': '180'},\n",
       "     {'name': 'Carbs', 'value': '28'},\n",
       "     {'name': 'Fat', 'value': '2'},\n",
       "     {'name': 'Protein', 'value': '4'},\n",
       "     {'name': 'Sodium', 'value': '210'},\n",
       "     {'name': 'Sugar', 'value': '4'}]},\n",
       "   {'name': 'Kraft - Smooth Peanut Butter, 2 TBSP (15 g)',\n",
       "    'nutritions': [{'name': 'Calories', 'value': '180'},\n",
       "     {'name': 'Carbs', 'value': '8'},\n",
       "     {'name': 'Fat', 'value': '16'},\n",
       "     {'name': 'Protein', 'value': '6'},\n",
       "     {'name': 'Sodium', 'value': '120'},\n",
       "     {'name': 'Sugar', 'value': '2'}]},\n",
       "   {'name': 'Tasti - Salted Caramel Protein Bar, 40 g',\n",
       "    'nutritions': [{'name': 'Calories', 'value': '196'},\n",
       "     {'name': 'Carbs', 'value': '15'},\n",
       "     {'name': 'Fat', 'value': '10'},\n",
       "     {'name': 'Protein', 'value': '10'},\n",
       "     {'name': 'Sodium', 'value': '176'},\n",
       "     {'name': 'Sugar', 'value': '7'}]}],\n",
       "  'meal': 'MY food',\n",
       "  'sequence': 1}]"
      ]
     },
     "execution_count": 30,
     "metadata": {},
     "output_type": "execute_result"
    }
   ],
   "source": [
    "json.loads(ex_chunk.loc[32,2])"
   ]
  },
  {
   "cell_type": "markdown",
   "metadata": {},
   "source": [
    "Third column corresponds to summary and nutrition goals for the day"
   ]
  },
  {
   "cell_type": "code",
   "execution_count": 32,
   "metadata": {},
   "outputs": [
    {
     "data": {
      "text/plain": [
       "{'goal': [{'name': 'Calories', 'value': 1678},\n",
       "  {'name': 'Carbs', 'value': 209},\n",
       "  {'name': 'Fat', 'value': 56},\n",
       "  {'name': 'Protein', 'value': 85},\n",
       "  {'name': 'Sodium', 'value': 2300},\n",
       "  {'name': 'Sugar', 'value': 63}],\n",
       " 'total': [{'name': 'Calories', 'value': 2516},\n",
       "  {'name': 'Carbs', 'value': 237},\n",
       "  {'name': 'Fat', 'value': 97},\n",
       "  {'name': 'Protein', 'value': 154},\n",
       "  {'name': 'Sodium', 'value': 2999},\n",
       "  {'name': 'Sugar', 'value': 84}]}"
      ]
     },
     "execution_count": 32,
     "metadata": {},
     "output_type": "execute_result"
    }
   ],
   "source": [
    "json.loads(ex_chunk.loc[32,3])"
   ]
  },
  {
   "cell_type": "code",
   "execution_count": null,
   "metadata": {
    "collapsed": true
   },
   "outputs": [],
   "source": []
  }
 ],
 "metadata": {
  "kernelspec": {
   "display_name": "Python 3",
   "language": "python",
   "name": "python3"
  },
  "language_info": {
   "codemirror_mode": {
    "name": "ipython",
    "version": 3
   },
   "file_extension": ".py",
   "mimetype": "text/x-python",
   "name": "python",
   "nbconvert_exporter": "python",
   "pygments_lexer": "ipython3",
   "version": "3.6.7"
  }
 },
 "nbformat": 4,
 "nbformat_minor": 2
}
